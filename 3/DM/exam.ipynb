{
 "cells": [
  {
   "cell_type": "code",
   "execution_count": 1,
   "metadata": {
    "collapsed": true
   },
   "outputs": [],
   "source": [
    "import numpy as np\n",
    "import matplotlib.pyplot as pyplot\n",
    "from scipy.spatial.distance import cdist\n",
    "import math"
   ]
  },
  {
   "cell_type": "code",
   "execution_count": 2,
   "metadata": {},
   "outputs": [
    {
     "name": "stdout",
     "output_type": "stream",
     "text": [
      "[[2 4]\n",
      " [1 2]\n",
      " [3 1]\n",
      " [7 5]\n",
      " [6 6]\n",
      " [6 4]\n",
      " [8 5]\n",
      " [2 2]\n",
      " [3 2]]\n"
     ]
    }
   ],
   "source": [
    "data = np.array([[2, 4],\n",
    "                 [1, 2],\n",
    "                 [3, 1],\n",
    "                 [7, 5],\n",
    "                 [6, 6],\n",
    "                 [6, 4],\n",
    "                 [8, 5],\n",
    "                 [2, 2],\n",
    "                 [3, 2]])\n",
    "\n",
    "print data"
   ]
  },
  {
   "cell_type": "markdown",
   "metadata": {},
   "source": [
    "построим график"
   ]
  },
  {
   "cell_type": "code",
   "execution_count": 3,
   "metadata": {},
   "outputs": [
    {
     "data": {
      "image/png": "[encoded data removed]",
      "text/plain": [
       "<matplotlib.figure.Figure at 0x107120190>"
      ]
     },
     "metadata": {},
     "output_type": "display_data"
    }
   ],
   "source": [
    "pyplot.scatter(data[:, 0], data[:, 1])\n",
    "pyplot.show()"
   ]
  },
  {
   "cell_type": "markdown",
   "metadata": {},
   "source": [
    "Инициализируем центроиды"
   ]
  },
  {
   "cell_type": "code",
   "execution_count": 4,
   "metadata": {},
   "outputs": [
    {
     "name": "stdout",
     "output_type": "stream",
     "text": [
      "[[5.30359785 2.26568037]\n",
      " [6.75524907 2.0947283 ]]\n"
     ]
    }
   ],
   "source": [
    "def initialize(k=2, n=2, low=2, hight=7):\n",
    "    return np.random.uniform(low=low, high=hight, size=(k,n))\n",
    "\n",
    "centroids = initialize()\n",
    "print(centroids)"
   ]
  },
  {
   "cell_type": "markdown",
   "metadata": {},
   "source": [
    "реализуем функцию пересчета центров кластеров."
   ]
  },
  {
   "cell_type": "code",
   "execution_count": 5,
   "metadata": {},
   "outputs": [
    {
     "name": "stdout",
     "output_type": "stream",
     "text": [
      "[0 0 0 1 0 0 1 0 0]\n"
     ]
    }
   ],
   "source": [
    "def clusterMemberships(x, centroids):\n",
    "    distances = cdist(x, centroids)\n",
    "    memberships = distances.argmin(axis=1)\n",
    "    return memberships\n",
    "\n",
    "memberships = clusterMemberships(data, centroids)\n",
    "print(memberships)"
   ]
  },
  {
   "cell_type": "markdown",
   "metadata": {},
   "source": [
    "Реализуйте функцию пересчета центров кластеров."
   ]
  },
  {
   "cell_type": "code",
   "execution_count": 6,
   "metadata": {},
   "outputs": [
    {
     "name": "stdout",
     "output_type": "stream",
     "text": [
      "[[3.28571439 3.        ]\n",
      " [7.5        5.        ]]\n"
     ]
    }
   ],
   "source": [
    "def recalculateCenters(x, centroids, memberships, k=2):\n",
    "    centroids = centroids.copy()\n",
    "    for index in range(k):\n",
    "        centroids[index, :] = np.mean(x[memberships == index, :], axis=0, dtype=np.float32)\n",
    "        \n",
    "    return centroids\n",
    "\n",
    "centroids = recalculateCenters(data, centroids, memberships)\n",
    "print(centroids)"
   ]
  },
  {
   "cell_type": "markdown",
   "metadata": {},
   "source": [
    "Реализуйте алгоритм K-средних."
   ]
  },
  {
   "cell_type": "code",
   "execution_count": 7,
   "metadata": {},
   "outputs": [
    {
     "name": "stdout",
     "output_type": "stream",
     "text": [
      "[array([[6.07120754, 2.19565533],\n",
      "       [5.45548029, 4.82626336]]), array([[2.25      , 1.75      ],\n",
      "       [5.80000019, 4.80000019]]), array([[2.20000005, 2.20000005],\n",
      "       [6.75      , 5.        ]]), array([[2.20000005, 2.20000005],\n",
      "       [6.75      , 5.        ]])]\n"
     ]
    }
   ],
   "source": [
    "def kMeans(x, centroids, k, n=2):\n",
    "    centroidsHistory = []\n",
    "    centroidsHistory.append(centroids)\n",
    "    \n",
    "    iterations = 3\n",
    "    \n",
    "    for i in range(iterations):\n",
    "        memberships = clusterMemberships(x, centroids)\n",
    "        centroids = recalculateCenters(x, centroids, memberships, k)\n",
    "        centroidsHistory.append(centroids)\n",
    "\n",
    "    return centroidsHistory\n",
    "\n",
    "centroids = initialize()\n",
    "centroidsHistory = kMeans(data, centroids, 2)\n",
    "print(centroidsHistory)"
   ]
  },
  {
   "cell_type": "markdown",
   "metadata": {},
   "source": [
    "Постройте график, на котором данные разделены на K=3 кластеров (при помощи различных маркеров или цветов), а также траекторию движения центров кластеров в процессе работы алгоритма"
   ]
  },
  {
   "cell_type": "code",
   "execution_count": 8,
   "metadata": {},
   "outputs": [
    {
     "data": {
      "image/png": "[encoded data removed]",
      "text/plain": [
       "<matplotlib.figure.Figure at 0x716a0a710>"
      ]
     },
     "metadata": {},
     "output_type": "display_data"
    }
   ],
   "source": [
    "def plotCentroidsHistory(centroidsHistory, k=2):\n",
    "    pyplot.figure(figsize=(8, 8))\n",
    "    for i in range(len(centroidsHistory)):\n",
    "        memberships = clusterMemberships(data, centroidsHistory[i])\n",
    "        pyplot.subplot(2, 2, i + 1)\n",
    "        colors = [\"green\", \"blue\", \"orange\"]\n",
    "        for kIndex, color in zip(range(k), colors):\n",
    "            pyplot.scatter(data[memberships == kIndex, 0], data[memberships == kIndex, 1], c=color)\n",
    "        pyplot.plot(centroidsHistory[i][:, 0], centroidsHistory[i][:, 1], 'rX')\n",
    "        pyplot.title('Step {:}'.format(i + 1));\n",
    "\n",
    "    pyplot.show()\n",
    "    \n",
    "plotCentroidsHistory(centroidsHistory)"
   ]
  },
  {
   "cell_type": "code",
   "execution_count": 9,
   "metadata": {},
   "outputs": [
    {
     "name": "stdout",
     "output_type": "stream",
     "text": [
      "0.030042089001\n",
      "0.0496138938357\n"
     ]
    }
   ],
   "source": [
    "lastX = [5, 4]\n",
    "for centroid in centroidsHistory[-1]:\n",
    "    print(0.1/math.sqrt((centroid[0]-lastX[0])**2+(centroid[1]-lastX[1])**2))"
   ]
  }
 ],
 "metadata": {
  "kernelspec": {
   "display_name": "Python 2",
   "language": "python",
   "name": "python2"
  },
  "language_info": {
   "codemirror_mode": {
    "name": "ipython",
    "version": 2
   },
   "file_extension": ".py",
   "mimetype": "text/x-python",
   "name": "python",
   "nbconvert_exporter": "python",
   "pygments_lexer": "ipython2",
   "version": "2.7.14"
  }
 },
 "nbformat": 4,
 "nbformat_minor": 2
}
