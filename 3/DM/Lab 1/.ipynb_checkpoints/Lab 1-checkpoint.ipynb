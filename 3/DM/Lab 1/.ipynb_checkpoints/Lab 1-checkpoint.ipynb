{
 "cells": [
  {
   "cell_type": "code",
   "execution_count": 1,
   "metadata": {},
   "outputs": [],
   "source": [
    "import numpy as np\n",
    "import matplotlib.pyplot as plt\n",
    "import matplotlib.image as img\n",
    "from scipy import misc"
   ]
  },
  {
   "cell_type": "code",
   "execution_count": 2,
   "metadata": {},
   "outputs": [
    {
     "name": "stderr",
     "output_type": "stream",
     "text": [
      "/Users/alinadolmatovich/anaconda2/lib/python2.7/site-packages/ipykernel_launcher.py:14: DeprecationWarning: `imread` is deprecated!\n",
      "`imread` is deprecated in SciPy 1.0.0, and will be removed in 1.2.0.\n",
      "Use ``imageio.imread`` instead.\n",
      "  \n"
     ]
    }
   ],
   "source": [
    "def show_image(img):\n",
    "    plt.imshow(img)\n",
    "    plt.show()\n",
    "\n",
    "def normalize_image(img):\n",
    "    # return (2*img / 255)-1\n",
    "    return img / 255\n",
    "\n",
    "def denormalize_image(img):\n",
    "    # return ((img + 1)*255/2).astype('int32')\n",
    "    return (img * 255).astype('float32')\n",
    "\n",
    "def read_png(path='horse.png'):\n",
    "    img = misc.imread(path).astype('int32')\n",
    "    # show_image(img)\n",
    "    # uncomment the below code to view the loaded image\n",
    "    return img\n",
    "\n",
    "img = read_png()\n",
    "img =  normalize_image(img)"
   ]
  },
  {
   "cell_type": "code",
   "execution_count": 3,
   "metadata": {},
   "outputs": [
    {
     "name": "stdout",
     "output_type": "stream",
     "text": [
      "(6400, 300)\n"
     ]
    }
   ],
   "source": [
    "def rect_split(img, h=10, w=10):\n",
    "    rects = []\n",
    "    for height in range(int(img.shape[0]/h)):\n",
    "        for width in range(int(img.shape[1]/w)):\n",
    "            rects.append(img[width*w:width*w+w, height*h:height*h+h].flatten())\n",
    "    rects = np.array(rects)\n",
    "    return rects\n",
    "\n",
    "\n",
    "def rect_join(rects, h=10, w=10, rh=800, rw=800):\n",
    "    i = 0\n",
    "    img = None\n",
    "    for height in range(int(rh / h)):\n",
    "        row = None\n",
    "        for width in range(int(rw / w)):\n",
    "            restore = rects[i].reshape(h,w,3)\n",
    "            i += 1\n",
    "            row = restore if row is None else np.vstack((row, restore))\n",
    "        img = row if img is None else np.hstack((img,row))\n",
    "    return img\n",
    "\n",
    "rects = rect_split(img)\n",
    "print(rects.shape)"
   ]
  },
  {
   "cell_type": "code",
   "execution_count": 4,
   "metadata": {},
   "outputs": [
    {
     "data": {
      "image/png": "[encoded data removed]",
      "text/plain": [
       "<matplotlib.figure.Figure at 0xb1b73df50>"
      ]
     },
     "metadata": {},
     "output_type": "display_data"
    }
   ],
   "source": [
    "# sigmoid\n",
    "def activation(x):\n",
    "    return 1 / (1 + np.exp(-x))\n",
    "\n",
    "# функция прямого распространения\n",
    "def predict(x, theta_1, theta_2, return_hidden_layer = False):\n",
    "    # theta_1 and theta_2 is neural network config for lay1 and lay2\n",
    "    ex_x = np.hstack((np.ones((len(x), 1)), x)) #расширение матрицы для умножения с первым слоем\n",
    "    lay_1_out = activation(ex_x.dot(theta_1.T)) #векторное умножение с последующим применением функции  активации\n",
    "    ex_lay_1_out = np.hstack((np.ones((len(lay_1_out), 1)), lay_1_out)) #расширение результирующей матрицы для умножения со вторым слоем\n",
    "    lay_2_out = activation(ex_lay_1_out.dot(theta_2.T)) #векторное умножение с последующим применением функции активации даёт на выходе матрицу ответов от нейронной сети(матрица предсказаний)\n",
    "    return ex_lay_1_out if return_hidden_layer else lay_2_out\n",
    "\n",
    "def create_random_theha(shape):\n",
    "    import random\n",
    "    theta = []\n",
    "    for _ in range(shape[0]):\n",
    "        theta.append(np.array([random.uniform(-1, 1) for _ in range(shape[1])]))\n",
    "    return np.array(theta)\n",
    "\n",
    "\n",
    "rand_tetha_1 = create_random_theha((280, 301))\n",
    "rand_tetha_2 = create_random_theha((300, 281))\n",
    "\n",
    "predictions = predict(rects, rand_tetha_1, rand_tetha_2)\n",
    "\n",
    "# initial output\n",
    "img = rect_join(predictions)\n",
    "img = denormalize_image(img)\n",
    "# print img\n",
    "show_image(img)\n"
   ]
  },
  {
   "cell_type": "code",
   "execution_count": 5,
   "metadata": {},
   "outputs": [
    {
     "name": "stdout",
     "output_type": "stream",
     "text": [
      "[[-14933307.64688766 -16806571.92148449 -15181500.11823403 ...\n",
      "  -17303952.17833462 -15048292.58451913 -13854260.87779802]\n",
      " [-13607555.38343078 -14963390.68531884 -13534302.18993298 ...\n",
      "  -15407897.24663365 -13417181.62468605 -12354746.54099276]\n",
      " [-21151941.32093541 -24556130.79604523 -22164663.86614567 ...\n",
      "  -25288030.77874963 -21958779.00128583 -20202795.44072963]\n",
      " ...\n",
      " [-15709248.17153574 -17233677.76817012 -15591990.22286779 ...\n",
      "  -17742582.53534689 -15461754.33334736 -14240199.7137598 ]\n",
      " [-18621451.6121301  -21848462.39534798 -19778111.08801749 ...\n",
      "  -22500394.9376137  -19602473.06928535 -18045062.36758325]\n",
      " [-17753577.23111556 -19999341.69744755 -18101642.37416636 ...\n",
      "  -20598404.97924443 -17947714.68989532 -16525788.94697686]]\n",
      "[[-101.33448244   14.29300325   42.56689019 ...   31.25330227\n",
      "    20.53722941   45.10121668]\n",
      " [-417.21121866 -577.31782738 -505.58746616 ... -601.34333624\n",
      "  -726.37995849 -671.0973158 ]\n",
      " [-601.27579924   24.09413999  -12.6824305  ...   19.36674829\n",
      "   -16.54956528  -14.5941304 ]\n",
      " ...\n",
      " [ -78.95154653 -572.15964824 -514.66346295 ... -592.92012712\n",
      "  -716.01189571 -674.93655689]\n",
      " [-565.81969723  -12.3304749   -12.74029106 ...   -3.50930114\n",
      "   -56.01833795  -31.71559473]\n",
      " [-550.51880176   -2.3419486    32.71617496 ...    9.77897801\n",
      "     7.34668716   26.96081748]]\n"
     ]
    },
    {
     "data": {
      "image/png": "[encoded data removed]",
      "text/plain": [
       "<matplotlib.figure.Figure at 0x10baef310>"
      ]
     },
     "metadata": {},
     "output_type": "display_data"
    }
   ],
   "source": [
    "def sigmoid_speed(x):\n",
    "    return np.exp(-x) / ((1 + np.exp(-x)) ** 2)\n",
    "\n",
    "def revert_error_spread_train(x, rand_tetha_1, rand_tetha_2, y):\n",
    "    for _ in range(20):\n",
    "        predicted = predict(x, rand_tetha_1, rand_tetha_2)\n",
    "        lay_1_predicted = predict(x, rand_tetha_1, rand_tetha_2, return_hidden_layer=True)\n",
    "        l2error = y - predicted\n",
    "        l2delta = l2error * sigmoid_speed(predicted)\n",
    "        l1error = np.dot(l2delta, rand_tetha_2)\n",
    "        l1delta = l1error * sigmoid_speed(lay_1_predicted)\n",
    "        l1delta = np.delete(l1delta, 0, 1)\n",
    "        ex_x = np.hstack((np.ones((len(x), 1)), x))  # расширение матрицы для умножения с первым слоем\n",
    "        rand_tetha_1 += np.dot(ex_x.T, l1delta).T\n",
    "        rand_tetha_2 += np.dot(lay_1_predicted.T, l2delta).T\n",
    "    return rand_tetha_1, rand_tetha_2\n",
    "\n",
    "def gradient(x,  base_theta_1, base_theta_2, y, lambda_=10000, alpha=1000000, iterations = 100):\n",
    "    for _ in range(int(iterations)):\n",
    "        ex_x = np.hstack((np.ones((len(x), 1)), x))  # расширение матрицы для умножения с первым слоем\n",
    "        layer1 = activation(np.dot(ex_x, base_theta_1.T))\n",
    "        ex_lay_1_out = np.hstack((np.ones((len(layer1), 1)), layer1))  # расширение результирующей матрицы для умножения со вторым слоем\n",
    "        layer2 = activation(np.dot(ex_lay_1_out, base_theta_2.T))\n",
    "        layer2delta = (layer2 - y) * (layer2 * (1-layer2))\n",
    "        layer1delta = np.dot(layer2delta, base_theta_2) * (ex_lay_1_out * (1-ex_lay_1_out))\n",
    "        l2_regularization = 1 - lambda_ / len(x)\n",
    "        base_theta_2 = base_theta_2 * l2_regularization - alpha * np.dot(ex_lay_1_out.T, layer2delta).T\n",
    "        layer1delta = np.delete(layer1delta, 0, 1)\n",
    "        base_theta_1 = base_theta_1 * l2_regularization - alpha * np.dot(ex_x.T, layer1delta).T\n",
    "    return np.array([base_theta_1, base_theta_2])\n",
    "\n",
    "def inp(string, defalut):\n",
    "    user = input(string)\n",
    "    if user == \"\":\n",
    "        return defalut\n",
    "    else:\n",
    "        return float(user)\n",
    "\n",
    "def expect():\n",
    "    la = 10\n",
    "    al = 0\n",
    "    i = 20\n",
    "\n",
    "    while True:\n",
    "        la = inp(\"lambda\", la)\n",
    "        al = inp(\"alpha\", al)\n",
    "        i = inp(\"iter\", i)\n",
    "        trained_tetha_1, trained_tetha_2 = gradient(rects, rand_tetha_1, rand_tetha_2, rects, lambda_=la, alpha=al, iterations = i)\n",
    "        predictions = predict(rects, trained_tetha_1, trained_tetha_2)\n",
    "        # initial output\n",
    "        img = rect_join(predictions)\n",
    "        img = denormalize_image(img)\n",
    "        show_image(img)\n",
    "\n",
    "# expect()\n",
    "\n",
    "trained_tetha_1, trained_tetha_2 = revert_error_spread_train(rects, rand_tetha_1, rand_tetha_2, rects)\n",
    "print(trained_tetha_1)\n",
    "print(trained_tetha_2)\n",
    "predictions = predict(rects, trained_tetha_1, trained_tetha_2)\n",
    "# initial output\n",
    "img = rect_join(predictions)\n",
    "img = denormalize_image(img)\n",
    "show_image(img)"
   ]
  }
 ],
 "metadata": {
  "kernelspec": {
   "display_name": "Python 2",
   "language": "python",
   "name": "python2"
  },
  "language_info": {
   "codemirror_mode": {
    "name": "ipython",
    "version": 2
   },
   "file_extension": ".py",
   "mimetype": "text/x-python",
   "name": "python",
   "nbconvert_exporter": "python",
   "pygments_lexer": "ipython2",
   "version": "2.7.14"
  }
 },
 "nbformat": 4,
 "nbformat_minor": 2
}
