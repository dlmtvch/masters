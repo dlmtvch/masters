{
 "cells": [
  {
   "cell_type": "code",
   "execution_count": 1,
   "metadata": {
    "collapsed": true
   },
   "outputs": [],
   "source": [
    "import pandas\n",
    "from scipy.io import loadmat\n",
    "import numpy as np\n",
    "import random\n",
    "import scipy.optimize as optimize\n",
    "import matplotlib.pyplot as pyplot"
   ]
  },
  {
   "cell_type": "code",
   "execution_count": 2,
   "metadata": {},
   "outputs": [
    {
     "name": "stdout",
     "output_type": "stream",
     "text": [
      "(5000, 400)\n",
      "[[10]\n",
      " [10]\n",
      " [10]\n",
      " ..., \n",
      " [ 9]\n",
      " [ 9]\n",
      " [ 9]]\n"
     ]
    }
   ],
   "source": [
    "#Загрузите данные ex4data1.mat из файла.\n",
    "\n",
    "data = loadmat('ex4data1.mat')\n",
    "y = data[\"y\"]\n",
    "x = data[\"X\"]\n",
    "print(x.shape)\n",
    "print(y)"
   ]
  },
  {
   "cell_type": "code",
   "execution_count": 3,
   "metadata": {},
   "outputs": [
    {
     "name": "stdout",
     "output_type": "stream",
     "text": [
      "(25, 401)\n",
      "(10, 26)\n"
     ]
    }
   ],
   "source": [
    "#Загрузите веса нейронной сети из файла ex4weights.mat, который содержит две матрицы Θ(1) (25, 401) и Θ(2) (10, 26). \n",
    "#Какова структура полученной нейронной сети?\n",
    "\n",
    "weightsData = loadmat('ex4weights.mat')\n",
    "theta1 = weightsData[\"Theta1\"]\n",
    "theta2 = weightsData[\"Theta2\"]\n",
    "print(theta1.shape)\n",
    "print(theta2.shape)\n"
   ]
  },
  {
   "cell_type": "code",
   "execution_count": 4,
   "metadata": {},
   "outputs": [
    {
     "name": "stdout",
     "output_type": "stream",
     "text": [
      "((5000, 25), (5000, 10), (5000, 400))\n"
     ]
    }
   ],
   "source": [
    "#Реализуйте функцию прямого распространения с сигмоидом в качестве функции активации. \n",
    "\n",
    "def sigmoid(x):\n",
    "    return 1 / (1 + np.exp(-x))\n",
    "\n",
    "def getSigmoidData(ones, x, theta):\n",
    "    if x.shape[1] != theta.shape[1]:\n",
    "        x = np.hstack((ones, x))\n",
    "    z = np.dot(x, theta.T)\n",
    "    return sigmoid(z)\n",
    "\n",
    "def h(theta1, theta2, x):\n",
    "    m = len(x)\n",
    "    ones = np.ones((m, 1))\n",
    "    x = getSigmoidData(ones, x, theta1)\n",
    "    return x, getSigmoidData(ones, x, theta2)\n",
    "\n",
    "l1, l2 = h(theta1, theta2, x)\n",
    "print(l1.shape, l2.shape, x.shape)"
   ]
  },
  {
   "cell_type": "code",
   "execution_count": 5,
   "metadata": {},
   "outputs": [
    {
     "data": {
      "text/plain": [
       "97.52"
      ]
     },
     "execution_count": 5,
     "metadata": {},
     "output_type": "execute_result"
    }
   ],
   "source": [
    "#Вычислите процент правильных классификаций на обучающей выборке. \n",
    "#Сравните полученный результат с логистической регрессией.\n",
    "\n",
    "def predictionPercentValue(resultLayer, y):\n",
    "    predictions = np.argmax(resultLayer, axis=1) + 1\n",
    "    predictionsCount = 0\n",
    "    for predictionValue, realValue in zip(predictions, y):\n",
    "        if predictionValue == realValue:\n",
    "            predictionsCount += 1\n",
    "    percentValue =  float(predictionsCount) / len(y) * 100\n",
    "    return percentValue\n",
    "\n",
    "predictionPercentValue(l2, y)"
   ]
  },
  {
   "cell_type": "code",
   "execution_count": 6,
   "metadata": {},
   "outputs": [
    {
     "name": "stdout",
     "output_type": "stream",
     "text": [
      "      1   2   3   4   5   6   7   8   9   10\n",
      "0      0   0   0   0   0   0   0   0   0   1\n",
      "1      0   0   0   0   0   0   0   0   0   1\n",
      "2      0   0   0   0   0   0   0   0   0   1\n",
      "3      0   0   0   0   0   0   0   0   0   1\n",
      "4      0   0   0   0   0   0   0   0   0   1\n",
      "5      0   0   0   0   0   0   0   0   0   1\n",
      "6      0   0   0   0   0   0   0   0   0   1\n",
      "7      0   0   0   0   0   0   0   0   0   1\n",
      "8      0   0   0   0   0   0   0   0   0   1\n",
      "9      0   0   0   0   0   0   0   0   0   1\n",
      "10     0   0   0   0   0   0   0   0   0   1\n",
      "11     0   0   0   0   0   0   0   0   0   1\n",
      "12     0   0   0   0   0   0   0   0   0   1\n",
      "13     0   0   0   0   0   0   0   0   0   1\n",
      "14     0   0   0   0   0   0   0   0   0   1\n",
      "15     0   0   0   0   0   0   0   0   0   1\n",
      "16     0   0   0   0   0   0   0   0   0   1\n",
      "17     0   0   0   0   0   0   0   0   0   1\n",
      "18     0   0   0   0   0   0   0   0   0   1\n",
      "19     0   0   0   0   0   0   0   0   0   1\n",
      "20     0   0   0   0   0   0   0   0   0   1\n",
      "21     0   0   0   0   0   0   0   0   0   1\n",
      "22     0   0   0   0   0   0   0   0   0   1\n",
      "23     0   0   0   0   0   0   0   0   0   1\n",
      "24     0   0   0   0   0   0   0   0   0   1\n",
      "25     0   0   0   0   0   0   0   0   0   1\n",
      "26     0   0   0   0   0   0   0   0   0   1\n",
      "27     0   0   0   0   0   0   0   0   0   1\n",
      "28     0   0   0   0   0   0   0   0   0   1\n",
      "29     0   0   0   0   0   0   0   0   0   1\n",
      "...   ..  ..  ..  ..  ..  ..  ..  ..  ..  ..\n",
      "4970   0   0   0   0   0   0   0   0   1   0\n",
      "4971   0   0   0   0   0   0   0   0   1   0\n",
      "4972   0   0   0   0   0   0   0   0   1   0\n",
      "4973   0   0   0   0   0   0   0   0   1   0\n",
      "4974   0   0   0   0   0   0   0   0   1   0\n",
      "4975   0   0   0   0   0   0   0   0   1   0\n",
      "4976   0   0   0   0   0   0   0   0   1   0\n",
      "4977   0   0   0   0   0   0   0   0   1   0\n",
      "4978   0   0   0   0   0   0   0   0   1   0\n",
      "4979   0   0   0   0   0   0   0   0   1   0\n",
      "4980   0   0   0   0   0   0   0   0   1   0\n",
      "4981   0   0   0   0   0   0   0   0   1   0\n",
      "4982   0   0   0   0   0   0   0   0   1   0\n",
      "4983   0   0   0   0   0   0   0   0   1   0\n",
      "4984   0   0   0   0   0   0   0   0   1   0\n",
      "4985   0   0   0   0   0   0   0   0   1   0\n",
      "4986   0   0   0   0   0   0   0   0   1   0\n",
      "4987   0   0   0   0   0   0   0   0   1   0\n",
      "4988   0   0   0   0   0   0   0   0   1   0\n",
      "4989   0   0   0   0   0   0   0   0   1   0\n",
      "4990   0   0   0   0   0   0   0   0   1   0\n",
      "4991   0   0   0   0   0   0   0   0   1   0\n",
      "4992   0   0   0   0   0   0   0   0   1   0\n",
      "4993   0   0   0   0   0   0   0   0   1   0\n",
      "4994   0   0   0   0   0   0   0   0   1   0\n",
      "4995   0   0   0   0   0   0   0   0   1   0\n",
      "4996   0   0   0   0   0   0   0   0   1   0\n",
      "4997   0   0   0   0   0   0   0   0   1   0\n",
      "4998   0   0   0   0   0   0   0   0   1   0\n",
      "4999   0   0   0   0   0   0   0   0   1   0\n",
      "\n",
      "[5000 rows x 10 columns]\n"
     ]
    }
   ],
   "source": [
    "#Перекодируйте исходные метки классов по схеме one-hot.\n",
    "\n",
    "oneHot = pandas.get_dummies(y.squeeze())\n",
    "print(oneHot)"
   ]
  },
  {
   "cell_type": "code",
   "execution_count": 7,
   "metadata": {},
   "outputs": [
    {
     "name": "stdout",
     "output_type": "stream",
     "text": [
      "304.66188263\n"
     ]
    }
   ],
   "source": [
    "#Реализуйте функцию стоимости для данной нейронной сети.\n",
    "\n",
    "def costFunction(h, y, sumParameter=False):\n",
    "    costs = []\n",
    "    for hI, yI in zip(h, y):\n",
    "        cost = sum((hI - yI) ** 2)\n",
    "        costs.append(cost)\n",
    "    return sum(costs) if sumParameter == True else np.array(costs)\n",
    "\n",
    "oneHot = np.array(oneHot)\n",
    "cost = costFunction(l2, oneHot, sumParameter=True)\n",
    "print(cost)"
   ]
  },
  {
   "cell_type": "code",
   "execution_count": 8,
   "metadata": {},
   "outputs": [
    {
     "name": "stdout",
     "output_type": "stream",
     "text": [
      "304.66188263\n"
     ]
    }
   ],
   "source": [
    "#Добавьте L2-регуляризацию в функцию стоимости.\n",
    "\n",
    "def costFunctionL2(theta1, theta2, y, lmbda):\n",
    "    l1, l2 = h(theta1, theta2, x)\n",
    "    return sum(sum((l2 - y) ** 2) * lmbda / (2*len(y)))\n",
    "\n",
    "lmbda = 10000\n",
    "cost = costFunctionL2(theta1, theta2, oneHot, lmbda)\n",
    "print(cost)"
   ]
  },
  {
   "cell_type": "code",
   "execution_count": 9,
   "metadata": {
    "collapsed": true
   },
   "outputs": [],
   "source": [
    "#Реализуйте функцию вычисления производной для функции активации.\n",
    "\n",
    "def sigmoidDerivate(x):\n",
    "    return np.exp(-x) / ((1 + np.exp(-x)) ** 2)\n"
   ]
  },
  {
   "cell_type": "code",
   "execution_count": 10,
   "metadata": {},
   "outputs": [
    {
     "name": "stdout",
     "output_type": "stream",
     "text": [
      "(25, 400)\n",
      "(10, 25)\n"
     ]
    }
   ],
   "source": [
    "#Инициализируйте веса небольшими случайными числами.\n",
    "\n",
    "def generateWeights(shape):\n",
    "    weights = []\n",
    "    for i in range(shape[0]):\n",
    "        line = []\n",
    "        for j in range(shape[1]):\n",
    "            value = random.random()\n",
    "            line.append(value)\n",
    "        weights.append(line)\n",
    "    return np.array(weights)\n",
    "\n",
    "\n",
    "shape1 = (25, 400)\n",
    "weights1 = generateWeights(shape1)\n",
    "shape2 = (10, 25)\n",
    "weights2 = generateWeights(shape2)\n",
    "print(weights1.shape)\n",
    "print(weights2.shape)"
   ]
  },
  {
   "cell_type": "code",
   "execution_count": 12,
   "metadata": {},
   "outputs": [
    {
     "name": "stdout",
     "output_type": "stream",
     "text": [
      "Error:4.50000374063\n"
     ]
    }
   ],
   "source": [
    "#Реализуйте алгоритм обратного распространения ошибки для данной конфигурации сети.\n",
    "\n",
    "for j in xrange(100):\n",
    "    l0 = x\n",
    "    l1, l2 = h(weights1, weights2, l0)\n",
    "    l2error = y - l2\n",
    "    if (j% 100) == 0:\n",
    "        print \"Error:\" + str(np.mean(np.abs(l2error)))\n",
    "    l2delta = l2error*sigmoidDerivate(l2)\n",
    "    l1error = l2delta.dot(weights2)\n",
    "    l1delta = l1error * sigmoidDerivate(l1)\n",
    "    weights1 += np.dot(l0.T, l1delta).T\n",
    "    weights2 += np.dot(l1.T, l2delta).T\n"
   ]
  },
  {
   "cell_type": "code",
   "execution_count": 13,
   "metadata": {},
   "outputs": [
    {
     "data": {
      "text/plain": [
       "array([ array([[  2.75772635e-02,   2.41585803e-01,   8.22843653e-01, ...,\n",
       "         -3.92934072e+05,  -1.67928833e+04,   3.61228143e-01],\n",
       "       [  1.67007877e-01,   3.62770148e-01,   3.09937043e-01, ...,\n",
       "         -3.92933860e+05,  -1.67932571e+04,   9.58155979e-01],\n",
       "       [  2.04490140e-01,   6.14716886e-01,   7.76438906e-01, ...,\n",
       "         -3.92933923e+05,  -1.67932704e+04,   6.03752299e-01],\n",
       "       ..., \n",
       "       [  6.00626102e-01,   7.04437896e-01,   9.46528125e-02, ...,\n",
       "         -3.92933811e+05,  -1.67932426e+04,   3.86372381e-01],\n",
       "       [  1.30004599e-01,   2.89356136e-01,   4.40424494e-01, ...,\n",
       "         -3.92934286e+05,  -1.67928472e+04,   9.31201830e-02],\n",
       "       [  4.98604892e-01,   9.73386804e-01,   5.23055320e-01, ...,\n",
       "         -3.92934141e+05,  -1.67927031e+04,   9.97171280e-01]]),\n",
       "       array([[ 442377.77623476,  442377.84030592,  442377.02615889,\n",
       "         442377.11351097,  442377.65024269,  442377.16758929,\n",
       "         442377.51382038,  442377.39390759,  442377.26997166,\n",
       "         442376.91053532,  442377.29422456,  442377.43181755,\n",
       "         442377.29736639,  442376.91390188,  442377.54498524,\n",
       "         442377.16047111,  442377.2762494 ,  442377.2704687 ,\n",
       "         442377.32887971,  442377.62886778,  442376.97086861,\n",
       "         442377.72004345,  442377.30527478,  442377.21707416,\n",
       "         442377.4571515 ],\n",
       "       [ 442377.59829248,  442377.19406845,  442377.41915861,\n",
       "         442377.27893395,  442377.53880055,  442377.54413917,\n",
       "         442377.09010746,  442377.49446319,  442377.27306898,\n",
       "         442377.76708108,  442377.06406985,  442377.00086172,\n",
       "         442377.83165347,  442377.35599391,  442377.32412365,\n",
       "         442377.30382   ,  442377.75451861,  442377.85437947,\n",
       "         442377.55312499,  442376.95670228,  442376.96099622,\n",
       "         442377.2107449 ,  442377.3570403 ,  442377.45870208,\n",
       "         442377.1608964 ],\n",
       "       [ 442377.4622586 ,  442377.53523687,  442377.33294672,\n",
       "         442377.05077989,  442377.5860819 ,  442377.25901213,\n",
       "         442377.37569033,  442377.11431492,  442377.22526748,\n",
       "         442377.18048325,  442377.0575486 ,  442377.45771769,\n",
       "         442377.25641099,  442377.2412285 ,  442377.27287329,\n",
       "         442377.33670778,  442377.31749173,  442377.09631714,\n",
       "         442377.54122041,  442377.03949973,  442377.49589714,\n",
       "         442377.68757764,  442377.39456988,  442377.75938628,\n",
       "         442377.58942678],\n",
       "       [ 442377.11452595,  442377.68808285,  442377.04010373,\n",
       "         442377.50499008,  442377.74536722,  442377.45084571,\n",
       "         442376.869565  ,  442377.39031441,  442377.63834978,\n",
       "         442377.62889457,  442377.747881  ,  442377.24469244,\n",
       "         442377.11578593,  442377.50906419,  442377.56310812,\n",
       "         442376.9929705 ,  442377.18317156,  442377.28380008,\n",
       "         442377.78800908,  442377.28630056,  442376.86156654,\n",
       "         442377.66999299,  442377.25848612,  442377.37925844,\n",
       "         442377.03480687],\n",
       "       [ 442377.24388968,  442377.60786   ,  442377.05525745,\n",
       "         442377.46367926,  442377.77286114,  442377.15124763,\n",
       "         442377.75614367,  442377.16507903,  442377.67713351,\n",
       "         442377.7722661 ,  442377.07980311,  442377.29037037,\n",
       "         442377.19802967,  442377.69767552,  442376.87485664,\n",
       "         442377.01551844,  442376.9472277 ,  442377.83950192,\n",
       "         442377.803417  ,  442376.9633992 ,  442377.18854063,\n",
       "         442377.24645931,  442377.33931084,  442377.71251446,\n",
       "         442377.32250613],\n",
       "       [ 442377.70531833,  442377.33767245,  442376.9491756 ,\n",
       "         442377.84581229,  442377.11348723,  442377.13077495,\n",
       "         442377.44545171,  442377.4158459 ,  442377.01263667,\n",
       "         442377.07584431,  442376.90412982,  442377.72538396,\n",
       "         442377.66471599,  442377.28709032,  442377.28745198,\n",
       "         442377.57192364,  442377.25107752,  442377.32459457,\n",
       "         442377.45621236,  442377.82516259,  442377.6900282 ,\n",
       "         442377.31831147,  442377.34581536,  442377.57049328,\n",
       "         442377.35749021],\n",
       "       [ 442377.60291476,  442377.39851561,  442377.57312709,\n",
       "         442377.58609276,  442377.58051269,  442377.60897536,\n",
       "         442377.75541155,  442377.46160972,  442377.24296056,\n",
       "         442377.41983928,  442377.20241532,  442377.55587833,\n",
       "         442377.13385104,  442377.60547303,  442376.8595322 ,\n",
       "         442377.45176006,  442377.20989385,  442377.5309001 ,\n",
       "         442377.59691142,  442376.94909262,  442377.28052985,\n",
       "         442377.18048857,  442377.80884563,  442377.73730113,\n",
       "         442377.26961562],\n",
       "       [ 442377.50949041,  442377.65362986,  442377.10052125,\n",
       "         442377.1147191 ,  442377.46908519,  442377.05801446,\n",
       "         442377.53033778,  442376.93694457,  442377.40696147,\n",
       "         442377.81236135,  442377.1023541 ,  442377.81833468,\n",
       "         442377.54992446,  442377.70620707,  442377.06438526,\n",
       "         442377.49011333,  442377.34867619,  442377.0136915 ,\n",
       "         442376.9922846 ,  442377.31177498,  442377.5819725 ,\n",
       "         442377.37045817,  442377.2411969 ,  442376.96743956,\n",
       "         442377.84409997],\n",
       "       [ 442377.42894116,  442377.04132595,  442377.29885978,\n",
       "         442377.55518198,  442377.51327672,  442376.88270968,\n",
       "         442377.006883  ,  442377.73591411,  442377.16214461,\n",
       "         442377.63370195,  442377.44503377,  442377.00802031,\n",
       "         442377.65716847,  442376.93205109,  442376.91659409,\n",
       "         442377.85051102,  442377.73769098,  442377.60481396,\n",
       "         442377.01130025,  442376.94007232,  442377.82126025,\n",
       "         442377.46242604,  442377.51082949,  442377.20283455,\n",
       "         442377.28925529],\n",
       "       [ 442377.13706872,  442377.7404889 ,  442377.67127766,\n",
       "         442377.61344701,  442377.04314945,  442377.77073064,\n",
       "         442377.00564071,  442377.7681767 ,  442377.67106729,\n",
       "         442377.49550405,  442377.82987811,  442377.76071696,\n",
       "         442377.12123031,  442377.81893597,  442377.69048541,\n",
       "         442377.49562162,  442377.12220466,  442377.29039883,\n",
       "         442377.79139388,  442377.49046042,  442377.07467702,\n",
       "         442377.57992531,  442376.98133338,  442377.38591465,\n",
       "         442377.47128929]])], dtype=object)"
      ]
     },
     "execution_count": 13,
     "metadata": {},
     "output_type": "execute_result"
    }
   ],
   "source": [
    "#Для того, чтобы удостоверится в правильности вычисленных значений градиентов используйте метод проверки градиента \n",
    "#с параметром ε = 10-4.\n",
    "\n",
    "def gradient(weights, x, lmbda=0, alpha=10e-4):\n",
    "    weights1, weights2 = weights[0], weights[1]\n",
    "    for j in xrange(100):\n",
    "        layer1 = sigmoid(np.dot(x, weights1.T)) \n",
    "        layer2 = sigmoid(np.dot(layer1, weights2.T)) \n",
    "        layer2delta = (layer2 - y) * (layer2 * (1-layer2))\n",
    "        layer1delta = np.dot(layer2delta, weights2) * (layer1 * (1-layer1)) \n",
    "        l2Parameter = 1 - lmbda/len(x)\n",
    "        weights2 = weights2 * l2Parameter - alpha * np.dot(layer1.T, layer2delta).T \n",
    "        weights1 = weights1 * l2Parameter - alpha * np.dot(x.T, layer1delta).T \n",
    "    return np.array([weights1, weights2])\n",
    "\n",
    "gradient([weights1, weights2], x)"
   ]
  },
  {
   "cell_type": "code",
   "execution_count": 14,
   "metadata": {},
   "outputs": [],
   "source": [
    "#Добавьте L2-регуляризацию в процесс вычисления градиентов.\n",
    "\n",
    "weights = gradient([weights1, weights2], x, 1)\n",
    "weights1, weights2 = weights[0], weights[1]"
   ]
  },
  {
   "cell_type": "code",
   "execution_count": 15,
   "metadata": {},
   "outputs": [
    {
     "name": "stdout",
     "output_type": "stream",
     "text": [
      "((5000, 25), (5000, 10), (5000, 400))\n"
     ]
    }
   ],
   "source": [
    "#Проверьте полученные значения градиента.\n",
    "\n",
    "l1, l2 = h(weights1, weights2, x)\n",
    "print(l1.shape, l2.shape, x.shape)"
   ]
  },
  {
   "cell_type": "code",
   "execution_count": 16,
   "metadata": {},
   "outputs": [],
   "source": [
    "#Обучите нейронную сеть с использованием градиентного спуска или других более эффективных методов оптимизации.\n",
    "\n",
    "y = data[\"y\"]\n",
    "x = data[\"X\"]\n",
    "trainWeights1 = generateWeights((25, 400))\n",
    "trainWeights2 = generateWeights((10, 25))\n",
    "trainWeights = gradient([trainWeights1, trainWeights2], x, 0.0000001)\n",
    "trainWeights1, trainWeights2 = trainWeights[0], trainWeights[1]\n",
    "l1, l2 = h(trainWeights1, trainWeights2, x)"
   ]
  },
  {
   "cell_type": "code",
   "execution_count": 22,
   "metadata": {},
   "outputs": [],
   "source": [
    "l1, l2 = h(theta1, theta2, x)"
   ]
  },
  {
   "cell_type": "code",
   "execution_count": 18,
   "metadata": {},
   "outputs": [
    {
     "data": {
      "text/plain": [
       "10.0"
      ]
     },
     "execution_count": 18,
     "metadata": {},
     "output_type": "execute_result"
    }
   ],
   "source": [
    "#Вычислите процент правильных классификаций на обучающей выборке.\n",
    "\n",
    "predictionPercentValue(l2, y)"
   ]
  },
  {
   "cell_type": "code",
   "execution_count": 19,
   "metadata": {},
   "outputs": [
    {
     "data": {
      "image/png": "[encoded data removed]",
      "text/plain": [
       "<matplotlib.figure.Figure at 0x10852a650>"
      ]
     },
     "metadata": {},
     "output_type": "display_data"
    }
   ],
   "source": [
    "#Визуализируйте скрытый слой обученной сети.\n",
    "\n",
    "def plotL1(l1):\n",
    "    count = 25\n",
    "    _, axis = pyplot.subplots(1, count)\n",
    "\n",
    "    for j in range(count):\n",
    "        matrix = l1.T[j].reshape(50, 100, order=\"F\")\n",
    "        axis[j].imshow(matrix)\n",
    "        axis[j].axis(\"off\")\n",
    "\n",
    "    pyplot.show()\n",
    "    \n",
    "plotL1(l1)\n"
   ]
  },
  {
   "cell_type": "code",
   "execution_count": 20,
   "metadata": {},
   "outputs": [
    {
     "name": "stdout",
     "output_type": "stream",
     "text": [
      "100000000\n"
     ]
    },
    {
     "data": {
      "image/png": "[encoded data removed]",
      "text/plain": [
       "<matplotlib.figure.Figure at 0x1814fb20d0>"
      ]
     },
     "metadata": {},
     "output_type": "display_data"
    },
    {
     "name": "stdout",
     "output_type": "stream",
     "text": [
      "1000\n"
     ]
    },
    {
     "data": {
      "image/png": "[encoded data removed]",
      "text/plain": [
       "<matplotlib.figure.Figure at 0x181548c850>"
      ]
     },
     "metadata": {},
     "output_type": "display_data"
    },
    {
     "name": "stdout",
     "output_type": "stream",
     "text": [
      "0\n"
     ]
    },
    {
     "data": {
      "image/png": "[encoded data removed]",
      "text/plain": [
       "<matplotlib.figure.Figure at 0x18155ffb50>"
      ]
     },
     "metadata": {},
     "output_type": "display_data"
    },
    {
     "name": "stdout",
     "output_type": "stream",
     "text": [
      "1e-05\n"
     ]
    },
    {
     "data": {
      "image/png": "[encoded data removed]",
      "text/plain": [
       "<matplotlib.figure.Figure at 0x181129b110>"
      ]
     },
     "metadata": {},
     "output_type": "display_data"
    }
   ],
   "source": [
    "#Подберите параметр регуляризации. Как меняются изображения на скрытом слое в зависимости от данного параметра?\n",
    "\n",
    "lmbdas = [100000000, 1000, 0, 0.00001]\n",
    "\n",
    "for lmbda in lmbdas:\n",
    "    trainWeights = gradient([trainWeights1, trainWeights2], x, 0.0000001)\n",
    "    trainWeights1, trainWeights2 = trainWeights[0], trainWeights[1]\n",
    "    l1, l2 = h(trainWeights1, trainWeights2, x)\n",
    "    print(lmbda)\n",
    "    plotL1(l1)\n"
   ]
  },
  {
   "cell_type": "code",
   "execution_count": 21,
   "metadata": {
    "collapsed": true
   },
   "outputs": [],
   "source": [
    "#Ответы на вопросы представьте в виде отчета."
   ]
  }
 ],
 "metadata": {
  "kernelspec": {
   "display_name": "Python 2",
   "language": "python",
   "name": "python2"
  },
  "language_info": {
   "codemirror_mode": {
    "name": "ipython",
    "version": 2
   },
   "file_extension": ".py",
   "mimetype": "text/x-python",
   "name": "python",
   "nbconvert_exporter": "python",
   "pygments_lexer": "ipython2",
   "version": "2.7.14"
  }
 },
 "nbformat": 4,
 "nbformat_minor": 2
}
