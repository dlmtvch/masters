{
 "cells": [
  {
   "cell_type": "code",
   "execution_count": 140,
   "metadata": {
    "collapsed": true
   },
   "outputs": [],
   "source": [
    "import pandas\n",
    "import matplotlib.pyplot as mp\n",
    "import numpy as np"
   ]
  },
  {
   "cell_type": "code",
   "execution_count": 167,
   "metadata": {},
   "outputs": [],
   "source": [
    "# Загрузите набор данных ex1data1.txt из текстового файла.\n",
    "data = pandas.read_csv('ex1data1.txt', sep = \",\", header=None).sort_values(by=0)\n",
    "# print(data)"
   ]
  },
  {
   "cell_type": "code",
   "execution_count": 272,
   "metadata": {},
   "outputs": [
    {
     "data": {
      "text/plain": [
       "[<matplotlib.lines.Line2D at 0x1189f2850>]"
      ]
     },
     "execution_count": 272,
     "metadata": {},
     "output_type": "execute_result"
    }
   ],
   "source": [
    "# Постройте график зависимости прибыли ресторана от населения города, в котором он расположен.\n",
    "population = list(data[0])\n",
    "profit = list(data[1])\n",
    "mp.scatter(population, profit)\n",
    "\n",
    "mp.plot([4, 25], [0, 27], 'r') # y = 1,286x - 5,143\n",
    "mp.show()"
   ]
  },
  {
   "cell_type": "code",
   "execution_count": 273,
   "metadata": {},
   "outputs": [
    {
     "name": "stdout",
     "output_type": "stream",
     "text": [
      "4.55224945314\n"
     ]
    }
   ],
   "source": [
    "# Реализуйте функцию потерь J(θ) для набора данных ex1data1.txt.\n",
    "\n",
    "def MSECostFunction(y, theta):\n",
    "    def predictedValue(x):\n",
    "        return theta[0]*x + theta[1]\n",
    "    \n",
    "    def errorValue(existent, predicted):\n",
    "        return (existent - predicted) ** 2\n",
    "\n",
    "    yPredicted = map(predictedValue, y)\n",
    "    costValue = sum(map(errorValue, y, yPredicted)) / (2*len(y))\n",
    "    return yPredicted, costValue\n",
    "\n",
    "theta=[1.286,-5.143]\n",
    "_, cost = MSECostFunction(population, theta)\n",
    "print(cost)"
   ]
  },
  {
   "cell_type": "code",
   "execution_count": 282,
   "metadata": {},
   "outputs": [
    {
     "data": {
      "image/png": "[encoded data removed]",
      "text/plain": [
       "<matplotlib.figure.Figure at 0x118f0d910>"
      ]
     },
     "metadata": {},
     "output_type": "display_data"
    }
   ],
   "source": [
    "# Реализуйте функцию градиентного спуска для выбора параметров модели. \n",
    "# Постройте полученную модель (функцию) совместно с графиком из пункта 2.\n",
    "\n",
    "def gradientValue(predicted, index):\n",
    "    return (population[index] - predicted) * profit[index]\n",
    "\n",
    "def theta(theta=[4,1.6], alphaStep=0.005):\n",
    "    previousCost = 10 ** 6\n",
    "    predictedValue, currentCost = MSECostFunction(population, theta)\n",
    "    \n",
    "    for i in range(50):\n",
    "        previousCost = currentCost\n",
    "    \n",
    "        gradientList = []\n",
    "        for index in range(len(predictedValue)):\n",
    "            gradient = gradientValue(predictedValue[index], index)\n",
    "            gradientList.append(gradient)\n",
    "\n",
    "        derivatives = [0] * len(theta)\n",
    "        for j in range(len(theta)):\n",
    "            summ = 0\n",
    "            for i in range(len(profit)):\n",
    "                summ += (profit[i] - population[i] * theta[j]) * population[i]\n",
    "            derivatives[j] = summ\n",
    "\n",
    "        theta[0] += alphaStep * sum(gradientList)\n",
    "        theta[1] += alphaStep * sum(gradientList)\n",
    "#         print(theta)\n",
    "        \n",
    "        mp.plot(theta[0], theta[1], 'ro')\n",
    "        predictedValue, currentCost = MSECostFunction(population, theta)\n",
    "    \n",
    "\n",
    "\n",
    "# population = list(data[0])\n",
    "# profit = list(data[1])\n",
    "mp.scatter(population, profit)\n",
    "\n",
    "mp.plot([4, 25], [0, 27], 'r') \n",
    "\n",
    "theta()\n",
    "\n",
    "mp.show()"
   ]
  },
  {
   "cell_type": "code",
   "execution_count": 255,
   "metadata": {
    "scrolled": true
   },
   "outputs": [],
   "source": [
    "# Постройте трехмерный график зависимости функции потерь от параметров модели (θ0 и θ1) как в виде поверхности, \n",
    "# так и в виде изолиний (contour plot)."
   ]
  },
  {
   "cell_type": "code",
   "execution_count": 86,
   "metadata": {},
   "outputs": [],
   "source": [
    "# Загрузите набор данных ex1data2.txt из текстового файла."
   ]
  },
  {
   "cell_type": "code",
   "execution_count": 87,
   "metadata": {
    "collapsed": true
   },
   "outputs": [],
   "source": [
    "# Произведите нормализацию признаков. \n",
    "# Повлияло ли это на скорость сходимости градиентного спуска? Ответ дайте в виде графика."
   ]
  },
  {
   "cell_type": "code",
   "execution_count": 88,
   "metadata": {
    "collapsed": true
   },
   "outputs": [],
   "source": [
    "# Реализуйте функции потерь J(θ) и градиентного спуска для случая многомерной линейной регрессии \n",
    "# с использованием векторизации"
   ]
  },
  {
   "cell_type": "code",
   "execution_count": 89,
   "metadata": {
    "collapsed": true
   },
   "outputs": [],
   "source": [
    "# Покажите, что векторизация дает прирост производительности."
   ]
  },
  {
   "cell_type": "code",
   "execution_count": 91,
   "metadata": {
    "collapsed": true
   },
   "outputs": [],
   "source": [
    "# Попробуйте изменить параметр ɑ (коэффициент обучения). \n",
    "# Как при этом изменяется график функции потерь в зависимости от числа итераций градиентного спуск? \n",
    "# Результат изобразите в качестве графика."
   ]
  },
  {
   "cell_type": "code",
   "execution_count": 92,
   "metadata": {
    "collapsed": true
   },
   "outputs": [],
   "source": [
    "# Постройте модель, используя аналитическое решение, которое может быть получено методом наименьших квадратов. \n",
    "# Сравните результаты данной модели с моделью, полученной с помощью градиентного спуска."
   ]
  },
  {
   "cell_type": "code",
   "execution_count": 93,
   "metadata": {
    "collapsed": true
   },
   "outputs": [],
   "source": [
    "# Ответы на вопросы представьте в виде отчета."
   ]
  },
  {
   "cell_type": "code",
   "execution_count": null,
   "metadata": {
    "collapsed": true
   },
   "outputs": [],
   "source": []
  }
 ],
 "metadata": {
  "kernelspec": {
   "display_name": "Python 2",
   "language": "python",
   "name": "python2"
  },
  "language_info": {
   "codemirror_mode": {
    "name": "ipython",
    "version": 2
   },
   "file_extension": ".py",
   "mimetype": "text/x-python",
   "name": "python",
   "nbconvert_exporter": "python",
   "pygments_lexer": "ipython2",
   "version": "2.7.14"
  }
 },
 "nbformat": 4,
 "nbformat_minor": 2
}
