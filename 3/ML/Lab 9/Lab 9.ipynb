{
 "cells": [
  {
   "cell_type": "markdown",
   "metadata": {},
   "source": [
    "**Лабораторная работа №9 “Рекомендательные системы”**"
   ]
  },
  {
   "cell_type": "markdown",
   "metadata": {},
   "source": [
    "Долматович Алина, 858641"
   ]
  },
  {
   "cell_type": "markdown",
   "metadata": {},
   "source": [
    "Набор данных ex9_movies.mat представляет собой файл формата *.mat (т.е. сохраненного из Matlab). Набор содержит две матрицы Y и R - рейтинг 1682 фильмов среди 943 пользователей. Значение Rij может быть равно 0 или 1 в зависимости от того оценил ли пользователь j фильм i. Матрица Y содержит числа от 1 до 5 - оценки в баллах пользователей, выставленные фильмам."
   ]
  },
  {
   "cell_type": "code",
   "execution_count": 1,
   "metadata": {
    "collapsed": true
   },
   "outputs": [],
   "source": [
    "from scipy.io import loadmat\n",
    "import math\n",
    "import numpy as np\n",
    "import pandas\n",
    "import matplotlib.pyplot as mp\n",
    "from sklearn.decomposition import TruncatedSVD"
   ]
  },
  {
   "cell_type": "markdown",
   "metadata": {},
   "source": [
    "Загрузите данные ex9_movies.mat из файла.\n"
   ]
  },
  {
   "cell_type": "code",
   "execution_count": 2,
   "metadata": {},
   "outputs": [
    {
     "name": "stdout",
     "output_type": "stream",
     "text": [
      "((1682, 943), (1682, 943))\n"
     ]
    }
   ],
   "source": [
    "data = loadmat('ex9_movies.mat')\n",
    "Y = data['Y']\n",
    "R = data['R']\n",
    "print(Y.shape, R.shape)\n",
    "\n",
    "nm, nu = Y.shape"
   ]
  },
  {
   "cell_type": "markdown",
   "metadata": {},
   "source": [
    "Выберите число признаков фильмов (n) для реализации алгоритма коллаборативной фильтрации.\n"
   ]
  },
  {
   "cell_type": "code",
   "execution_count": 3,
   "metadata": {
    "collapsed": true
   },
   "outputs": [],
   "source": [
    "n=2"
   ]
  },
  {
   "cell_type": "markdown",
   "metadata": {},
   "source": [
    "Реализуйте функцию стоимости для алгоритма.\n"
   ]
  },
  {
   "cell_type": "code",
   "execution_count": 4,
   "metadata": {},
   "outputs": [
    {
     "name": "stdout",
     "output_type": "stream",
     "text": [
      "694762.0\n"
     ]
    }
   ],
   "source": [
    "def cost(x, thetha, y, lmbda=10.):\n",
    "    cost = (np.sum((x.dot(thetha.T)-y)**2)) / 2\n",
    "    cost += lmbda*(np.sum(x**2)) / 2\n",
    "    cost += lmbda*(np.sum(thetha**2)) / 2\n",
    "    return cost\n",
    "\n",
    "\n",
    "def defaultValue(nm, nu):\n",
    "    ones = np.ones((nm, 1))\n",
    "    np.random.seed(41)\n",
    "    x = np.random.rand(nm, n) / 100000000\n",
    "    x = np.hstack((ones, x))\n",
    "\n",
    "    zeros = np.zeros((nu, 1))\n",
    "    theta = np.random.rand(nu, n) / 100000000\n",
    "    theta = np.hstack((zeros, theta))\n",
    "    return x, theta\n",
    "\n",
    "x, theta = defaultValue(nm, nu)\n",
    "c = cost(x, theta, Y)\n",
    "print(c)"
   ]
  },
  {
   "cell_type": "markdown",
   "metadata": {},
   "source": [
    "Реализуйте функцию вычисления градиентов.\n"
   ]
  },
  {
   "cell_type": "markdown",
   "metadata": {},
   "source": [
    "При реализации используйте векторизацию для ускорения процесса обучения.\n"
   ]
  },
  {
   "cell_type": "markdown",
   "metadata": {},
   "source": [
    "Добавьте L2-регуляризацию в модель.\n"
   ]
  },
  {
   "cell_type": "markdown",
   "metadata": {},
   "source": [
    "Обучите модель с помощью градиентного спуска или других методов оптимизации.\n"
   ]
  },
  {
   "cell_type": "code",
   "execution_count": 5,
   "metadata": {},
   "outputs": [
    {
     "data": {
      "image/png": "[encoded data removed]",
      "text/plain": [
       "<matplotlib.figure.Figure at 0x10ee15fd0>"
      ]
     },
     "metadata": {},
     "output_type": "display_data"
    },
    {
     "name": "stdout",
     "output_type": "stream",
     "text": [
      "694456.390146\n"
     ]
    }
   ],
   "source": [
    "def derivateX(x, i, j, k, theta, y, lmbda):\n",
    "    return np.dot((x[i].dot(theta[j].T)-y[i,j]), theta[j,k]) + lmbda*x[i,k]\n",
    "\n",
    "def derivateTheta(x, i, j, k, theta, y, lmbda):\n",
    "    return np.dot((x[i].dot(theta[j].T)-y[i,j]), x[i,k]) + lmbda*theta[j,k]\n",
    "\n",
    "def gradient(x, y, R, theta, alpha=.000001, lmbda=-0.1, iterations=650, n=2):\n",
    "    values = dict()\n",
    "    for iteration in range(iterations):\n",
    "        for film in range(x.shape[0]):\n",
    "            for user in range(x.shape[1]):\n",
    "                for k in range(n+1):\n",
    "                    di = []\n",
    "                    dj = []\n",
    "                    if R[film, user]:\n",
    "                        deriv = derivateX(x, film, user, k, theta, y, lmbda)\n",
    "                        di.append(deriv)\n",
    "                        deriv2 = derivateTheta(x, film, user, k, theta, y, lmbda)\n",
    "                        dj.append(deriv2)\n",
    "                    x[film, k] -= alpha * sum(di)\n",
    "                    theta[user, k] -= alpha * sum(dj)\n",
    "        values[iteration] = cost(x, theta, Y)\n",
    "\n",
    "    return x, theta, values\n",
    "\n",
    "x, theta, values = gradient(x, Y, R, theta)\n",
    "# c = cost(x, theta, Y)\n",
    "\n",
    "mp.plot(values.keys(), values.values())\n",
    "mp.show()\n",
    "\n",
    "print(min(values.values()))"
   ]
  },
  {
   "cell_type": "markdown",
   "metadata": {},
   "source": [
    "Добавьте несколько оценок фильмов от себя. Файл movie_ids.txt содержит индексы каждого из фильмов.\n"
   ]
  },
  {
   "cell_type": "code",
   "execution_count": 6,
   "metadata": {},
   "outputs": [
    {
     "name": "stdout",
     "output_type": "stream",
     "text": [
      "((1682, 1), (1682, 1))\n"
     ]
    },
    {
     "data": {
      "image/png": "[encoded data removed]",
      "text/plain": [
       "<matplotlib.figure.Figure at 0x11183ff50>"
      ]
     },
     "metadata": {},
     "output_type": "display_data"
    },
    {
     "name": "stdout",
     "output_type": "stream",
     "text": [
      "694597.390146\n"
     ]
    }
   ],
   "source": [
    "rates = [\n",
    "    [0, 3],\n",
    "    [66, 4],\n",
    "    [68, 5],\n",
    "    [71, 4],\n",
    "    [93, 5],\n",
    "    [140, 5],\n",
    "    [150, 4],\n",
    "    [189, 4],\n",
    "    [210, 4],\n",
    "    [249, 5],\n",
    "    [312, 5],\n",
    "    [538, 3],\n",
    "    [738, 5],\n",
    "    [893, 3],\n",
    "    [1442, 5]\n",
    "]\n",
    "\n",
    "myY, myR = np.zeros((nm, 1)), np.zeros((nm, 1))\n",
    "for rate in rates:\n",
    "    myY[rate[0]] = rate[1]\n",
    "    myR[rate[0]] = 1\n",
    "print(myY.shape, myR.shape)\n",
    "\n",
    "Y = np.hstack((Y, myY))\n",
    "R = np.hstack((R, myR))\n",
    "\n",
    "\n",
    "x, theta = defaultValue(nm, nu+1)\n",
    "x, theta, values = gradient(x, Y, R, theta)\n",
    "\n",
    "mp.plot(values.keys(), values.values())\n",
    "mp.show()\n",
    "\n",
    "print(min(values.values()))"
   ]
  },
  {
   "cell_type": "markdown",
   "metadata": {},
   "source": [
    "Сделайте рекомендации для себя. Совпали ли они с реальностью?\n"
   ]
  },
  {
   "cell_type": "code",
   "execution_count": 7,
   "metadata": {},
   "outputs": [
    {
     "data": {
      "text/plain": [
       "array([  0,   1,   2, 236, 755])"
      ]
     },
     "execution_count": 7,
     "metadata": {},
     "output_type": "execute_result"
    }
   ],
   "source": [
    "prediction = np.dot(x, theta.T)[-1]\n",
    "prediction.argsort()[-5:][::-1]"
   ]
  },
  {
   "cell_type": "markdown",
   "metadata": {},
   "source": [
    "Также обучите модель с помощью сингулярного разложения матриц. Отличаются ли полученные результаты?\n"
   ]
  },
  {
   "cell_type": "code",
   "execution_count": 8,
   "metadata": {},
   "outputs": [
    {
     "data": {
      "text/plain": [
       "array([ 49, 180, 120,   0, 116])"
      ]
     },
     "execution_count": 8,
     "metadata": {},
     "output_type": "execute_result"
    }
   ],
   "source": [
    "svd = TruncatedSVD(n_components=3, n_iter=250, random_state=42)\n",
    "thetas = svd.fit_transform(Y)\n",
    "xes = svd.components_\n",
    "\n",
    "predictions = thetas.dot(xes)[:,-1]\n",
    "predictions.argsort()[-5:][::-1]"
   ]
  },
  {
   "cell_type": "markdown",
   "metadata": {},
   "source": [
    "**Вывод**"
   ]
  },
  {
   "cell_type": "markdown",
   "metadata": {},
   "source": []
  }
 ],
 "metadata": {
  "kernelspec": {
   "display_name": "Python 3",
   "language": "python",
   "name": "python3"
  },
  "language_info": {
   "codemirror_mode": {
    "name": "ipython",
    "version": 3
   },
   "file_extension": ".py",
   "mimetype": "text/x-python",
   "name": "python",
   "nbconvert_exporter": "python",
   "pygments_lexer": "ipython3",
   "version": "3.6.9"
  }
 },
 "nbformat": 4,
 "nbformat_minor": 2
}
