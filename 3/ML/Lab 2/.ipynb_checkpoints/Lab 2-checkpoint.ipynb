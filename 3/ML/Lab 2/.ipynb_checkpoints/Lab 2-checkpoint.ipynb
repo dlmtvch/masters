{
 "cells": [
  {
   "cell_type": "markdown",
   "metadata": {},
   "source": [
    "**Лабораторная работа №2 “Логистическая регрессия. Многоклассовая классификация”**\n"
   ]
  },
  {
   "cell_type": "markdown",
   "metadata": {},
   "source": [
    "Долматович Алина, 858641"
   ]
  },
  {
   "cell_type": "code",
   "execution_count": 1,
   "metadata": {
    "collapsed": true
   },
   "outputs": [],
   "source": [
    "import pandas\n",
    "import matplotlib.pyplot as pyplot\n",
    "import numpy as np\n",
    "import math\n",
    "import scipy.optimize as optimize\n",
    "from scipy.io import loadmat\n",
    "import random"
   ]
  },
  {
   "cell_type": "markdown",
   "metadata": {},
   "source": [
    "Загрузите данные ex2data1.txt из текстового файла."
   ]
  },
  {
   "cell_type": "code",
   "execution_count": 2,
   "metadata": {
    "collapsed": true
   },
   "outputs": [],
   "source": [
    "def getData(fileName):\n",
    "    return pandas.read_csv(fileName, sep = \",\", header=None)\n",
    "\n",
    "data1 = getData('ex2data1.txt')\n",
    "# print(data1)"
   ]
  },
  {
   "cell_type": "markdown",
   "metadata": {},
   "source": [
    "Постройте график, где по осям откладываются оценки по предметам, а точки обозначаются двумя разными маркерами в зависимости от того, поступил ли данный студент в университет или нет.\n",
    "\n"
   ]
  },
  {
   "cell_type": "code",
   "execution_count": 3,
   "metadata": {},
   "outputs": [
    {
     "data": {
      "image/png": "[encoded data removed]",
      "text/plain": [
       "<matplotlib.figure.Figure at 0x104198a10>"
      ]
     },
     "metadata": {},
     "output_type": "display_data"
    }
   ],
   "source": [
    "def scatterPlot(data):\n",
    "    colors = (\"green\", \"red\")\n",
    "    groups = (\"success\", \"failed\")\n",
    "\n",
    "    figure = pyplot.figure()\n",
    "    subplot = figure.add_subplot(1, 1, 1)\n",
    "\n",
    "    for data, color, group in zip(data, colors, groups):\n",
    "        x, y = data[0], data[1]\n",
    "        subplot.scatter(x, y, c=color, label=group)\n",
    "\n",
    "    pyplot.legend(loc=2)\n",
    "\n",
    "success = data1.loc[data1[2] == 1]\n",
    "failed = data1.loc[data1[2] == 0]\n",
    "scatterPlot(data=(success, failed))\n",
    "pyplot.show()"
   ]
  },
  {
   "cell_type": "markdown",
   "metadata": {},
   "source": [
    "Реализуйте функции потерь J(θ) и градиентного спуска для логистической регрессии с использованием векторизации.\n",
    "\n"
   ]
  },
  {
   "cell_type": "code",
   "execution_count": 12,
   "metadata": {
    "collapsed": true
   },
   "outputs": [],
   "source": [
    "def sigmoid(x):\n",
    "    return 1 / (1 + np.exp(-x))\n",
    "\n",
    "def h(theta, X):\n",
    "    z = np.dot(theta, X.T)\n",
    "    return sigmoid(z)\n",
    "\n",
    "def particularCost(theta, x, y):\n",
    "    if y == 1:\n",
    "        return - math.log(h(theta, x))\n",
    "    elif y == 0:\n",
    "        return - math.log(1 - h(theta, x))\n",
    "\n",
    "def cost(theta, X, Y):\n",
    "    particularCosts = []\n",
    "    for x, y in zip(X,Y):\n",
    "        currentParticularCost = particularCost(theta, x, y)\n",
    "        particularCosts.append(currentParticularCost)\n",
    "    return 1. / len(X) * sum(particularCosts)\n",
    "\n",
    "def gradientDescent(x, y, theta, alpha=0.0005):\n",
    "    for i in range(500):\n",
    "        h = sigmoid(np.dot(x, theta))\n",
    "        gradient = np.matmul(X.T, (h - y)) / len(y);\n",
    "        theta -= alpha * gradient\n",
    "    return theta\n"
   ]
  },
  {
   "cell_type": "code",
   "execution_count": 5,
   "metadata": {},
   "outputs": [
    {
     "name": "stdout",
     "output_type": "stream",
     "text": [
      "4.26613842362\n",
      "[-0.01889155  0.01055634  0.00059828]\n"
     ]
    }
   ],
   "source": [
    "X = np.array(data1.iloc[:, 0:2])\n",
    "Y = np.array(data1[2])\n",
    "theta = np.array([0, 0.1, 0.1])\n",
    "\n",
    "(m, n) = X.shape\n",
    "# theta = np.zeros((n + 1, 1))\n",
    "X = np.hstack((np.ones((m, 1)), X))\n",
    "\n",
    "print(cost(theta, X, Y))\n",
    "\n",
    "theta = gradientDescent(X, Y, theta)\n",
    "print(theta)"
   ]
  },
  {
   "cell_type": "markdown",
   "metadata": {},
   "source": [
    "Реализуйте другие методы (как минимум 2) оптимизации для реализованной функции стоимости (например, \n",
    "Метод Нелдера — Мида, Алгоритм Бройдена — Флетчера — Гольдфарба — Шанно, генетические методы и т.п.).\n",
    "Разрешается использовать библиотечные реализации методов оптимизации (например, из библиотеки scipy).\n",
    "\n"
   ]
  },
  {
   "cell_type": "code",
   "execution_count": 6,
   "metadata": {
    "scrolled": true
   },
   "outputs": [
    {
     "name": "stdout",
     "output_type": "stream",
     "text": [
      "[-25.16142618   0.20623229   0.20147249]\n",
      "[-25.16124435   0.206231     0.20147085]\n"
     ]
    }
   ],
   "source": [
    "temp = optimize.minimize(cost, theta, (X, Y), method='Nelder-Mead')\n",
    "resultTheta = temp.x\n",
    "print(resultTheta)\n",
    "\n",
    "temp2 = optimize.minimize(cost, theta, (X, Y), method='BFGS')\n",
    "resultTheta = temp2.x\n",
    "print(resultTheta)"
   ]
  },
  {
   "cell_type": "markdown",
   "metadata": {},
   "source": [
    "Реализуйте функцию предсказания вероятности поступления студента в зависимости от значений оценок по экзаменам."
   ]
  },
  {
   "cell_type": "code",
   "execution_count": 7,
   "metadata": {},
   "outputs": [
    {
     "name": "stdout",
     "output_type": "stream",
     "text": [
      "[  9.10342800e-02   4.22601706e-05   4.39091754e-02   9.90424545e-01\n",
      "   9.98198714e-01   1.07976791e-02   9.98978114e-01   4.23227182e-01\n",
      "   9.99710012e-01   7.35387352e-01   9.09673865e-01   2.85970699e-02\n",
      "   9.99270125e-01   9.99853941e-01   1.56037429e-01   9.80959079e-01\n",
      "   4.27716919e-01   1.48789818e-01   9.99706535e-01   5.74280445e-01\n",
      "   6.68354987e-02   9.98627216e-01   7.41812959e-03   1.01158024e-04\n",
      "   9.91878123e-01   8.55047779e-01   6.00298381e-01   8.65184223e-01\n",
      "   9.23898049e-02   1.68290877e-02   8.97130010e-01   9.81037118e-01\n",
      "   1.54911474e-01   3.91938487e-01   7.41293603e-02   3.31110712e-02\n",
      "   8.52266888e-01   9.87564125e-01   2.03988405e-01   4.95802746e-02\n",
      "   9.70300054e-01   6.11832483e-03   9.99461472e-01   5.02285115e-01\n",
      "   4.48877376e-03   1.37024401e-01   9.92991691e-01   9.99996181e-01\n",
      "   9.99204897e-01   9.99990760e-01   9.98106744e-01   9.99500476e-01\n",
      "   9.05015341e-01   2.80619156e-03   8.52283234e-03   5.28913438e-02\n",
      "   9.99856626e-01   6.93706428e-01   9.85496467e-01   9.95728534e-01\n",
      "   9.99531636e-01   2.22382092e-04   3.50546294e-03   1.27070078e-04\n",
      "   7.16571125e-02   4.08764977e-02   9.44425563e-01   1.00706754e-02\n",
      "   9.99952446e-01   7.09299878e-01   6.20412637e-05   9.77395873e-01\n",
      "   9.99893355e-01   8.84275600e-01   9.05239847e-01   9.99954903e-01\n",
      "   9.17694064e-01   6.26742965e-01   1.58403269e-02   5.99468870e-01\n",
      "   9.99282476e-01   9.73471313e-01   8.94531428e-01   2.03193080e-01\n",
      "   9.99941046e-01   9.97982437e-01   3.54559867e-01   9.99820024e-01\n",
      "   9.99973210e-01   1.06959730e-01   9.99943951e-01   9.99985224e-01\n",
      "   1.42430938e-03   9.99321725e-01   9.24569617e-01   8.58638371e-01\n",
      "   7.50880784e-01   9.99896603e-01   3.39275511e-01   9.99750926e-01]\n"
     ]
    }
   ],
   "source": [
    "h = h(resultTheta.copy(), X.copy())\n",
    "print(h)"
   ]
  },
  {
   "cell_type": "markdown",
   "metadata": {},
   "source": [
    "Постройте разделяющую прямую, полученную в результате обучения модели. Совместите прямую с графиком из пункта 2.\n",
    "\n"
   ]
  },
  {
   "cell_type": "code",
   "execution_count": 8,
   "metadata": {},
   "outputs": [
    {
     "data": {
      "image/png": "[encoded data removed]",
      "text/plain": [
       "<matplotlib.figure.Figure at 0x1809127350>"
      ]
     },
     "metadata": {},
     "output_type": "display_data"
    }
   ],
   "source": [
    "# -(t1*x1 + t3) / t2 = x2 \n",
    "\n",
    "def line_x1(x1, theta): \n",
    "    result = []\n",
    "    for x in x1:\n",
    "        value = (theta[0] * x + theta[2]) / theta[1] + 170\n",
    "        result.append(value)\n",
    "    return result\n",
    "\n",
    "scatterPlot(data=(success, failed))\n",
    "pyplot.plot(data1[0], line_x1(data1[0], theta), color='blue')\n",
    "pyplot.show()"
   ]
  },
  {
   "cell_type": "markdown",
   "metadata": {},
   "source": [
    "Загрузите данные ex2data2.txt из текстового файла."
   ]
  },
  {
   "cell_type": "code",
   "execution_count": 9,
   "metadata": {
    "collapsed": true
   },
   "outputs": [],
   "source": [
    "data2 = getData('ex2data2.txt')\n",
    "# print(data2)"
   ]
  },
  {
   "cell_type": "markdown",
   "metadata": {},
   "source": [
    "Постройте график, где по осям откладываются результаты тестов, а точки обозначаются двумя разными маркерами в зависимости от того, прошло ли изделие контроль или нет.\n",
    "\n"
   ]
  },
  {
   "cell_type": "code",
   "execution_count": 10,
   "metadata": {},
   "outputs": [
    {
     "data": {
      "image/png": "[encoded data removed]",
      "text/plain": [
       "<matplotlib.figure.Figure at 0x180e108550>"
      ]
     },
     "metadata": {},
     "output_type": "display_data"
    }
   ],
   "source": [
    "success = data2.loc[data2[2] == 1]\n",
    "failed = data2.loc[data2[2] == 0]\n",
    "\n",
    "scatterPlot(data=(success, failed))\n",
    "pyplot.show()"
   ]
  },
  {
   "cell_type": "markdown",
   "metadata": {},
   "source": [
    "Реализуйте L2-регуляризацию для логистической регрессии и обучите ее на расширенном наборе \n",
    "признаков методом градиентного спуска."
   ]
  },
  {
   "cell_type": "code",
   "execution_count": 13,
   "metadata": {},
   "outputs": [
    {
     "name": "stdout",
     "output_type": "stream",
     "text": [
      "(0.69647643833990047, array([-0.00456763,  0.09412745,  0.19643552]))\n"
     ]
    }
   ],
   "source": [
    "#J(X,Y,W) = L + 1/C * ||W||^2, где ||W||^2 = w1^2 + w2^2 +...+wn^2, L = логистическая функция потерь\n",
    "\n",
    "X = np.array(data2.iloc[:, 0:2])\n",
    "(m, n) = X.shape\n",
    "theta = np.zeros((n + 1, 1))\n",
    "X = np.hstack((np.ones((m, 1)), X))\n",
    "\n",
    "Y = np.array(data2[2])\n",
    "theta = np.array([0, 0.1, 0.2])\n",
    "\n",
    "def l2regularization(theta, X, Y, C=0.1):\n",
    "    particularCosts = []\n",
    "    for x, y in zip(X,Y):\n",
    "        currentParticularCost = particularCost(theta, x, y)  + (C / (2 * len(X))) * np.sum(theta[1:]**2)\n",
    "        particularCosts.append(currentParticularCost)\n",
    "    return 1. / len(X) * sum(particularCosts)\n",
    "\n",
    "theta2 = gradientDescent(X, Y, theta)\n",
    "L2 = l2regularization(theta, X, Y)\n",
    "print(L2, theta2)"
   ]
  },
  {
   "cell_type": "markdown",
   "metadata": {},
   "source": [
    "Реализуйте функцию предсказания вероятности прохождения контроля изделием в зависимости от результатов тестов."
   ]
  },
  {
   "cell_type": "code",
   "execution_count": 14,
   "metadata": {},
   "outputs": [
    {
     "name": "stdout",
     "output_type": "stream",
     "text": [
      "118\n"
     ]
    }
   ],
   "source": [
    "def partialPredict(h, y):\n",
    "    return sigmoid(np.dot(h, y))\n",
    "\n",
    "def prediction(X, Y):\n",
    "    H = h(resultTheta.copy(), X)\n",
    "\n",
    "    P = []\n",
    "    for _h, y in zip(H, Y):\n",
    "        partial = partialPredict(_h, y)\n",
    "        P.append(partial)\n",
    "    return P\n",
    "\n",
    "predict = prediction(X, Y)\n",
    "print(len(predict))"
   ]
  },
  {
   "cell_type": "markdown",
   "metadata": {},
   "source": [
    "Постройте все возможные комбинации признаков x1 (результат первого теста) и x2 (результат второго теста), \n",
    "в которых степень полинома не превышает 6, т.е. 1, x1, x2, x12, x1x2, x22, …, x1x25, x26 (всего 28 комбинаций).\n",
    "\n"
   ]
  },
  {
   "cell_type": "code",
   "execution_count": 15,
   "metadata": {},
   "outputs": [
    {
     "name": "stdout",
     "output_type": "stream",
     "text": [
      "(118, 28)\n"
     ]
    }
   ],
   "source": [
    "X = np.array(data2.iloc[:, 0:2])\n",
    "Y = np.array(data2[2])\n",
    "(m, n) = X.shape\n",
    "theta = np.zeros((n + 1, 1))\n",
    "\n",
    "def polynomialCombinations():\n",
    "    def partialCombination(p1, p2):\n",
    "        def multiply(x):  \n",
    "            return (x[0] ** p1) * (x[1] ** p2)\n",
    "\n",
    "        return ['x1%s*x2%s' % (p1, p2), multiply]\n",
    "\n",
    "    combinations = {}\n",
    "    for i in range(0, 7):\n",
    "        for j in range(0, 7):\n",
    "            if i + j <= 6:\n",
    "                [key, fn] = partialCombination(i, j)\n",
    "                combinations[key] = fn\n",
    "    return combinations\n",
    "\n",
    "XX = []\n",
    "for i in X:\n",
    "    a = []\n",
    "    combinations = polynomialCombinations()\n",
    "    for key in combinations.keys():\n",
    "        a.append(combinations[key](i))\n",
    "    XX.append(np.array(a))\n",
    "X = np.array(XX)\n",
    "print(X.shape)"
   ]
  },
  {
   "cell_type": "markdown",
   "metadata": {},
   "source": [
    "Реализуйте другие методы оптимизации.\n",
    "\n"
   ]
  },
  {
   "cell_type": "code",
   "execution_count": 16,
   "metadata": {},
   "outputs": [
    {
     "name": "stdout",
     "output_type": "stream",
     "text": [
      "[ 3.73959371  3.23362165  4.64217887  2.97725137 -2.53605451 -6.30060183\n",
      "  2.84732584  0.32110738  0.04666409  5.01139142 -6.05869898  2.13760524\n",
      " -3.6594982  -4.32656123 -4.49457957 -3.70160141 -3.60947846 -5.56210576\n",
      " -0.09605167  0.41744376 -1.70520988 -5.48256526 -6.69650402  2.02676681\n",
      " -1.98244411 -3.75115211 -0.87408806 -0.85685924  2.49057132]\n"
     ]
    }
   ],
   "source": [
    "def getThetaOptimized(X, C=0.01):\n",
    "    (m, n) = X.shape\n",
    "    theta = np.zeros((n + 1, 1))\n",
    "    X = np.hstack((np.ones((m, 1)), X))\n",
    "\n",
    "    theta_optimized = optimize.minimize(l2regularization, theta, (X, Y, C), method='L-BFGS-B').x\n",
    "    print(theta_optimized)\n",
    "\n",
    "#     theta_optimized = optimize.minimize(l2regularization, theta, (X, Y, C), method='CG').x\n",
    "#     print(theta_optimized)\n",
    "    \n",
    "    return theta_optimized\n",
    "\n",
    "thetaOptimize = getThetaOptimized(X)"
   ]
  },
  {
   "cell_type": "markdown",
   "metadata": {},
   "source": [
    "Постройте разделяющую кривую, полученную в результате обучения модели. Совместите прямую с графиком из пункта 7.\n",
    "\n"
   ]
  },
  {
   "cell_type": "code",
   "execution_count": 17,
   "metadata": {},
   "outputs": [
    {
     "name": "stdout",
     "output_type": "stream",
     "text": [
      "[  2.75511335e+00   4.27654981e-01   2.95675339e+00   5.27832419e-01\n",
      "  -4.99821618e-01  -2.77958684e+00  -9.17935165e-02  -1.14888962e+00\n",
      "  -1.22050153e-03   6.24093385e-01  -4.22406247e+00   7.46224940e-01\n",
      "  -9.58722753e-01  -1.21465841e+00  -1.14921411e+00  -1.76212068e+00\n",
      "  -1.13637721e+00  -4.21467546e+00  -1.07812657e+00   4.44274096e-01\n",
      "  -6.21338533e-01  -2.63112452e+00  -3.37771914e+00   1.80722305e+00\n",
      "  -1.20754102e+00  -3.26537172e+00  -4.71452579e-01  -7.35762809e-01\n",
      "  -4.74778418e-01]\n"
     ]
    },
    {
     "data": {
      "image/png": "[encoded data removed]",
      "text/plain": [
       "<matplotlib.figure.Figure at 0x181141ead0>"
      ]
     },
     "metadata": {},
     "output_type": "display_data"
    }
   ],
   "source": [
    "def dividingCurve(C):\n",
    "    thetaOptimized = getThetaOptimized(X, C)\n",
    "    XX = np.linspace(-1, 1.5, 100)\n",
    "    YY = np.linspace(-1, 1.5, 100)\n",
    "    ZZ = np.zeros((len(XX), len(YY)))\n",
    "    combinations = polynomialCombinations()\n",
    "\n",
    "    for i in range(len(XX)):\n",
    "        for j in range(len(YY)):\n",
    "            a = [1]\n",
    "            for key in combinations.keys():\n",
    "                a.append(combinations[key]([XX[i], YY[j]]))\n",
    "            ZZ[i, j] = h(thetaOptimized, np.array(a))\n",
    "\n",
    "    success = data2.loc[data2[2] == 1]\n",
    "    failed = data2.loc[data2[2] == 0]\n",
    "    scatterPlot(data=(success, failed))\n",
    "    pyplot.contour(XX, YY, ZZ, 0)\n",
    "    \n",
    "dividingCurve(0.1)\n",
    "pyplot.show()"
   ]
  },
  {
   "cell_type": "markdown",
   "metadata": {},
   "source": [
    "Попробуйте различные значения параметра регуляризации λ. Как выбор данного значения влияет на вид разделяющей кривой?\n",
    "Ответ дайте в виде графиков."
   ]
  },
  {
   "cell_type": "code",
   "execution_count": 18,
   "metadata": {},
   "outputs": [
    {
     "name": "stdout",
     "output_type": "stream",
     "text": [
      "[  1.33477867e+00   1.94091487e-02   1.25196521e+00  -4.95881899e-02\n",
      "  -1.77273238e-01  -1.25575922e+00  -4.62986339e-01  -9.59079703e-01\n",
      "  -1.77360113e-04  -4.11317435e-02  -1.52540465e+00   1.44419801e-01\n",
      "  -1.59744279e-01  -3.19536273e-01  -3.48482111e-01  -6.53891858e-01\n",
      "  -2.98062103e-01  -2.12258443e+00  -3.93026207e-01   3.37540950e-02\n",
      "  -2.48913912e-01  -1.09682006e+00  -9.94359359e-01   6.74738528e-01\n",
      "  -3.00536003e-01  -1.53257646e+00  -2.18956428e-01  -3.09485552e-01\n",
      "  -3.79513258e-01]\n"
     ]
    },
    {
     "data": {
      "image/png": "[encoded data removed]",
      "text/plain": [
       "<matplotlib.figure.Figure at 0x103ff3850>"
      ]
     },
     "metadata": {},
     "output_type": "display_data"
    },
    {
     "name": "stdout",
     "output_type": "stream",
     "text": [
      "[  2.75511335e+00   4.27654981e-01   2.95675339e+00   5.27832419e-01\n",
      "  -4.99821618e-01  -2.77958684e+00  -9.17935165e-02  -1.14888962e+00\n",
      "  -1.22050153e-03   6.24093385e-01  -4.22406247e+00   7.46224940e-01\n",
      "  -9.58722753e-01  -1.21465841e+00  -1.14921411e+00  -1.76212068e+00\n",
      "  -1.13637721e+00  -4.21467546e+00  -1.07812657e+00   4.44274096e-01\n",
      "  -6.21338533e-01  -2.63112452e+00  -3.37771914e+00   1.80722305e+00\n",
      "  -1.20754102e+00  -3.26537172e+00  -4.71452579e-01  -7.35762809e-01\n",
      "  -4.74778418e-01]\n"
     ]
    },
    {
     "data": {
      "image/png": "[encoded data removed]",
      "text/plain": [
       "<matplotlib.figure.Figure at 0x181187b110>"
      ]
     },
     "metadata": {},
     "output_type": "display_data"
    },
    {
     "name": "stdout",
     "output_type": "stream",
     "text": [
      "[ 3.73959371  3.23362165  4.64217887  2.97725137 -2.53605451 -6.30060183\n",
      "  2.84732584  0.32110738  0.04666409  5.01139142 -6.05869898  2.13760524\n",
      " -3.6594982  -4.32656123 -4.49457957 -3.70160141 -3.60947846 -5.56210576\n",
      " -0.09605167  0.41744376 -1.70520988 -5.48256526 -6.69650402  2.02676681\n",
      " -1.98244411 -3.75115211 -0.87408806 -0.85685924  2.49057132]\n"
     ]
    },
    {
     "data": {
      "image/png": "[encoded data removed]",
      "text/plain": [
       "<matplotlib.figure.Figure at 0x18119dd090>"
      ]
     },
     "metadata": {},
     "output_type": "display_data"
    },
    {
     "name": "stdout",
     "output_type": "stream",
     "text": [
      "[  3.0049419   11.76737158   4.64860032   3.18674038  -3.30114775\n",
      " -18.22425516   8.88881534   1.40932792   0.47215167  10.57478771\n",
      "  -0.86041362   5.02722798 -13.34155455 -13.29903408 -17.39451255\n",
      " -10.11155637  -8.58889272  -5.61364754   6.80390598  -7.79178492\n",
      "  -1.91957033 -18.03966713  -8.57339407   0.57987762  -1.00980683\n",
      "   2.52891058  -3.74723557  -2.69935809  11.35061294]\n"
     ]
    },
    {
     "data": {
      "image/png": "[encoded data removed]",
      "text/plain": [
       "<matplotlib.figure.Figure at 0x103ffe2d0>"
      ]
     },
     "metadata": {},
     "output_type": "display_data"
    }
   ],
   "source": [
    "cValues = [0.9, 0.1, 0.01, 0.001]\n",
    "\n",
    "for value in cValues:\n",
    "    dividingCurve(value)\n",
    "    pyplot.show()"
   ]
  },
  {
   "cell_type": "markdown",
   "metadata": {},
   "source": [
    "Загрузите данные ex2data3.mat из файла.\n",
    "\n"
   ]
  },
  {
   "cell_type": "code",
   "execution_count": 19,
   "metadata": {},
   "outputs": [
    {
     "name": "stdout",
     "output_type": "stream",
     "text": [
      "(5000, 400)\n",
      "(5000, 1)\n"
     ]
    }
   ],
   "source": [
    "mat = loadmat('ex2data3.mat')\n",
    "X = mat['X']\n",
    "Y = mat['y']\n",
    "print(X.shape)\n",
    "print(Y.shape)"
   ]
  },
  {
   "cell_type": "markdown",
   "metadata": {},
   "source": [
    "Визуализируйте несколько случайных изображений из набора данных. \n",
    "Визуализация должна содержать каждую цифру как минимум один раз."
   ]
  },
  {
   "cell_type": "code",
   "execution_count": 20,
   "metadata": {},
   "outputs": [
    {
     "data": {
      "image/png": "[encoded data removed]",
      "text/plain": [
       "<matplotlib.figure.Figure at 0x18119dd510>"
      ]
     },
     "metadata": {},
     "output_type": "display_data"
    }
   ],
   "source": [
    "images = dict()\n",
    "\n",
    "for i in range(len(Y)):\n",
    "    key = Y[i][0]\n",
    "    if key not in images.keys():\n",
    "        images[key] = i \n",
    "\n",
    "keys = images.keys()\n",
    "\n",
    "_, axis = pyplot.subplots(1, len(keys))\n",
    "\n",
    "for j in range(len(keys)):\n",
    "    matrix = X[images[j+1], :].reshape(20, 20, order=\"F\")\n",
    "    axis[j].imshow(matrix)\n",
    "    axis[j].axis(\"off\")\n",
    "\n",
    "pyplot.show()\n"
   ]
  },
  {
   "cell_type": "code",
   "execution_count": 21,
   "metadata": {
    "collapsed": true
   },
   "outputs": [],
   "source": [
    "m = len(Y)\n",
    "X = np.hstack((np.ones((m, 1)), X))\n",
    "(m, n) = X.shape\n",
    "lmbda = 0.1\n",
    "k = 10\n",
    "theta = np.zeros((k, n))"
   ]
  },
  {
   "cell_type": "markdown",
   "metadata": {},
   "source": [
    "Реализуйте бинарный классификатор с помощью логистической регрессии с использованием векторизации \n",
    "(функции потерь и градиентного спуска).\n",
    "\n"
   ]
  },
  {
   "cell_type": "code",
   "execution_count": 22,
   "metadata": {},
   "outputs": [
    {
     "name": "stdout",
     "output_type": "stream",
     "text": [
      "[-17.05142064]\n",
      "[[ -5.00000000e+00   0.00000000e+00   0.00000000e+00 ...,   7.28764624e-06\n",
      "    6.02839052e-07   0.00000000e+00]\n",
      " [ -5.00000000e+00   0.00000000e+00   0.00000000e+00 ...,   7.28764624e-06\n",
      "    6.02839052e-07   0.00000000e+00]\n",
      " [ -5.00000000e+00   0.00000000e+00   0.00000000e+00 ...,   7.28764624e-06\n",
      "    6.02839052e-07   0.00000000e+00]\n",
      " ..., \n",
      " [ -5.00000000e+00   0.00000000e+00   0.00000000e+00 ...,   7.28764624e-06\n",
      "    6.02839052e-07   0.00000000e+00]\n",
      " [ -5.00000000e+00   0.00000000e+00   0.00000000e+00 ...,   7.28764624e-06\n",
      "    6.02839052e-07   0.00000000e+00]\n",
      " [ -5.00000000e+00   0.00000000e+00   0.00000000e+00 ...,   7.28764624e-06\n",
      "    6.02839052e-07   0.00000000e+00]]\n"
     ]
    }
   ],
   "source": [
    "def costRegularized(theta, X, y, lambda_=0):\n",
    "    m = len(y)\n",
    "    h_theta = sigmoid(np.dot(X, theta))\n",
    "    J = (1. / m) * ((np.dot(-y.T, np.log(h_theta))) - np.dot((1 - y).T, np.log(1 - h_theta))) + (lambda_ / (2 * m)) * np.sum(theta[1:]**2)\n",
    "    return J\n",
    "\n",
    "def gradientDescentRegularized(theta, X, Y, alpha=0.01, lambdaValue=0):\n",
    "    m = len(Y)\n",
    "    grad = np.zeros([m, 1])\n",
    "    grad = (1. / m) * np.dot(X.T, (sigmoid(np.dot(X, theta.T)) - Y))\n",
    "    grad = grad.T + ((lambdaValue / m) * theta)\n",
    "    return grad\n",
    "        \n",
    "print(costRegularized(theta[0], X, Y))\n",
    "print(gradientDescentRegularized(theta, X, Y))"
   ]
  },
  {
   "cell_type": "markdown",
   "metadata": {},
   "source": [
    "Добавьте L2-регуляризацию к модели.\n",
    "\n"
   ]
  },
  {
   "cell_type": "code",
   "execution_count": 23,
   "metadata": {},
   "outputs": [
    {
     "name": "stdout",
     "output_type": "stream",
     "text": [
      "[-17.05142064]\n",
      "[[ -5.00000000e+00   0.00000000e+00   0.00000000e+00 ...,   7.28764624e-06\n",
      "    6.02839052e-07   0.00000000e+00]\n",
      " [ -5.00000000e+00   0.00000000e+00   0.00000000e+00 ...,   7.28764624e-06\n",
      "    6.02839052e-07   0.00000000e+00]\n",
      " [ -5.00000000e+00   0.00000000e+00   0.00000000e+00 ...,   7.28764624e-06\n",
      "    6.02839052e-07   0.00000000e+00]\n",
      " ..., \n",
      " [ -5.00000000e+00   0.00000000e+00   0.00000000e+00 ...,   7.28764624e-06\n",
      "    6.02839052e-07   0.00000000e+00]\n",
      " [ -5.00000000e+00   0.00000000e+00   0.00000000e+00 ...,   7.28764624e-06\n",
      "    6.02839052e-07   0.00000000e+00]\n",
      " [ -5.00000000e+00   0.00000000e+00   0.00000000e+00 ...,   7.28764624e-06\n",
      "    6.02839052e-07   0.00000000e+00]]\n"
     ]
    }
   ],
   "source": [
    "lmbda = 0.01\n",
    "print(costRegularized(theta[0], X, Y, lmbda))\n",
    "print(gradientDescentRegularized(theta[0], X, Y, lmbda))"
   ]
  },
  {
   "cell_type": "markdown",
   "metadata": {},
   "source": [
    "Реализуйте многоклассовую классификацию по методу “один против всех”.\n"
   ]
  },
  {
   "cell_type": "code",
   "execution_count": 28,
   "metadata": {},
   "outputs": [
    {
     "name": "stdout",
     "output_type": "stream",
     "text": [
      "Warning: Desired error not necessarily achieved due to precision loss.\n",
      "         Current function value: 0.008937\n",
      "         Iterations: 63\n",
      "         Function evaluations: 2608\n",
      "         Gradient evaluations: 2597\n",
      "Warning: Desired error not necessarily achieved due to precision loss.\n",
      "         Current function value: 0.013482\n",
      "         Iterations: 18\n",
      "         Function evaluations: 237\n",
      "         Gradient evaluations: 225\n",
      "Warning: Desired error not necessarily achieved due to precision loss.\n",
      "         Current function value: 0.051921\n",
      "         Iterations: 6\n",
      "         Function evaluations: 100\n",
      "         Gradient evaluations: 88\n",
      "Warning: Desired error not necessarily achieved due to precision loss.\n",
      "         Current function value: 0.058449\n",
      "         Iterations: 38\n",
      "         Function evaluations: 668\n",
      "         Gradient evaluations: 656\n",
      "Warning: Desired error not necessarily achieved due to precision loss.\n",
      "         Current function value: 0.034447\n",
      "         Iterations: 8\n",
      "         Function evaluations: 121\n",
      "         Gradient evaluations: 109\n",
      "Warning: Desired error not necessarily achieved due to precision loss.\n",
      "         Current function value: 0.055264\n",
      "         Iterations: 9\n",
      "         Function evaluations: 184\n",
      "         Gradient evaluations: 172\n",
      "Warning: Desired error not necessarily achieved due to precision loss.\n",
      "         Current function value: 0.020437\n",
      "         Iterations: 9\n",
      "         Function evaluations: 92\n",
      "         Gradient evaluations: 81\n",
      "Warning: Desired error not necessarily achieved due to precision loss.\n",
      "         Current function value: 0.031460\n",
      "         Iterations: 16\n",
      "         Function evaluations: 278\n",
      "         Gradient evaluations: 266\n",
      "Warning: Maximum number of iterations has been exceeded.\n",
      "         Current function value: 0.079965\n",
      "         Iterations: 100\n",
      "         Function evaluations: 280\n",
      "         Gradient evaluations: 280\n",
      "Warning: Desired error not necessarily achieved due to precision loss.\n",
      "         Current function value: 0.071799\n",
      "         Iterations: 37\n",
      "         Function evaluations: 336\n",
      "         Gradient evaluations: 324\n",
      "[[ -7.41679593e+00   0.00000000e+00   0.00000000e+00 ...,  -4.12504929e-04\n",
      "    1.65380789e-05   0.00000000e+00]\n",
      " [ -3.19334873e+00   0.00000000e+00   0.00000000e+00 ...,   5.27275114e-03\n",
      "    2.59448167e-07   0.00000000e+00]\n",
      " [ -3.67211698e+00   0.00000000e+00   0.00000000e+00 ...,   1.00365891e-02\n",
      "   -1.14501572e-03   0.00000000e+00]\n",
      " ..., \n",
      " [ -2.23813374e+00   0.00000000e+00   0.00000000e+00 ...,  -1.89787184e-03\n",
      "    2.28927589e-04   0.00000000e+00]\n",
      " [ -9.26845069e+00   0.00000000e+00   0.00000000e+00 ...,  -2.45777406e-04\n",
      "    2.13078648e-05   0.00000000e+00]\n",
      " [ -5.72624956e+00   0.00000000e+00   0.00000000e+00 ...,  -6.96396395e-03\n",
      "    5.53371615e-04   0.00000000e+00]]\n"
     ]
    }
   ],
   "source": [
    "def oneVSAll(theta, k, X, Y, C=0.1):\n",
    "    for i in range(k):\n",
    "        digit_class = i if i else 10\n",
    "        currentY = (Y == digit_class).flatten().astype(np.int)\n",
    "        theta[i] = optimize.fmin_cg(\n",
    "            f=costRegularized,\n",
    "            x0=theta[i],\n",
    "            fprime=gradientDescentRegularized,\n",
    "            args=(X, currentY, C),\n",
    "            maxiter=100\n",
    "        )\n",
    "    return theta\n",
    "    \n",
    "theta = oneVSAll(theta, k, X, Y)\n",
    "print(theta)"
   ]
  },
  {
   "cell_type": "markdown",
   "metadata": {},
   "source": [
    "Реализуйте функцию предсказания класса по изображению с использованием обученных классификаторов.\n",
    "\n",
    "\n"
   ]
  },
  {
   "cell_type": "code",
   "execution_count": 25,
   "metadata": {},
   "outputs": [
    {
     "name": "stdout",
     "output_type": "stream",
     "text": [
      "1797\n",
      "(3, ' == ', 3)\n"
     ]
    }
   ],
   "source": [
    "def predict_number(X, theta):\n",
    "    return np.argmax(np.dot(X, theta.T))\n",
    "\n",
    "randomValue = int(random.uniform(1, len(X)))\n",
    "print(randomValue)\n",
    "print(predict_number(X[randomValue], theta), ' == ', Y[randomValue][0])"
   ]
  },
  {
   "cell_type": "markdown",
   "metadata": {},
   "source": [
    "Процент правильных классификаций на обучающей выборке должен составлять около 95%.\n"
   ]
  },
  {
   "cell_type": "code",
   "execution_count": 29,
   "metadata": {},
   "outputs": [
    {
     "name": "stdout",
     "output_type": "stream",
     "text": [
      "(4806, 5000)\n",
      "('Accuracy: ', 96.12)\n"
     ]
    }
   ],
   "source": [
    "predictions = 0\n",
    "for index in range(len(X)):\n",
    "    predict = 10 if predict_number(X[index], theta) == 0 else predict_number(X[index], theta)\n",
    "    real = Y[index][0] \n",
    "    if predict == real:\n",
    "        predictions += 1\n",
    "        \n",
    "print(predictions, len(Y))\n",
    "print(\"Accuracy: \", (float(predictions) / len(Y)) * 100)"
   ]
  }
 ],
 "metadata": {
  "kernelspec": {
   "display_name": "Python 2",
   "language": "python",
   "name": "python2"
  },
  "language_info": {
   "codemirror_mode": {
    "name": "ipython",
    "version": 2
   },
   "file_extension": ".py",
   "mimetype": "text/x-python",
   "name": "python",
   "nbconvert_exporter": "python",
   "pygments_lexer": "ipython2",
   "version": "2.7.14"
  }
 },
 "nbformat": 4,
 "nbformat_minor": 2
}
