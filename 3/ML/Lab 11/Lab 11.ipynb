{
 "cells": [
  {
   "cell_type": "markdown",
   "metadata": {},
   "source": [
    "**Лабораторная работа №11 “Реализация криптографических атак с помощью машинного обучения на физически неклонируемые функции”**"
   ]
  },
  {
   "cell_type": "markdown",
   "metadata": {},
   "source": [
    "Долматович Алина, 858641"
   ]
  },
  {
   "cell_type": "markdown",
   "metadata": {},
   "source": [
    "Сформулируйте задачу в терминах машинного обучения.\n"
   ]
  },
  {
   "cell_type": "markdown",
   "metadata": {},
   "source": [
    "**Задача:** Обучить модель машинного обучения таким образом, чтобы она смогла предсказывать выходное значение  (Response, R) по запросу (Challenge, CH)"
   ]
  },
  {
   "cell_type": "code",
   "execution_count": 48,
   "metadata": {},
   "outputs": [],
   "source": [
    "import pandas\n",
    "import numpy as np\n",
    "from sklearn.neighbors import KNeighborsClassifier\n",
    "from sklearn.ensemble import GradientBoostingClassifier\n",
    "from sklearn.tree import DecisionTreeClassifier\n",
    "import sklearn.cross_validation\n",
    "from sklearn.metrics import accuracy_score, f1_score, log_loss, recall_score\n",
    "import matplotlib.pyplot as pyplot"
   ]
  },
  {
   "cell_type": "markdown",
   "metadata": {},
   "source": [
    "Обучите модель, которая могла бы предсказывать ответы по запросам, которых нет в обучающей выборке.\n"
   ]
  },
  {
   "cell_type": "code",
   "execution_count": 2,
   "metadata": {},
   "outputs": [
    {
     "name": "stdout",
     "output_type": "stream",
     "text": [
      "((400, 128), (400,))\n",
      "((100, 128), (100,))\n"
     ]
    }
   ],
   "source": [
    "def getData(fileName, rowsCount=500):\n",
    "    data = pandas.read_csv(fileName, sep=\" \", header=None, nrows=rowsCount)\n",
    "    symbolsCount = int(fileName.replace(\"Base\", \"\").replace(\".txt\", \"\"))\n",
    "\n",
    "    x = np.array(list(data[0].apply(str).map(lambda x: np.array(map(int, (symbolsCount - len(x)) * \"0\" + x))).squeeze().values))\n",
    "\n",
    "    y = data[1].values\n",
    "\n",
    "    trainX, testX, trainY, testY = sklearn.cross_validation.train_test_split(x, y, test_size=0.20, random_state=5)\n",
    "\n",
    "    return trainX, testX, trainY, testY\n",
    "    \n",
    "trainX, testX, trainY, testY = getData(\"Base128.txt\")\n",
    "print(trainX.shape, trainY.shape)\n",
    "print(testX.shape, testY.shape)"
   ]
  },
  {
   "cell_type": "markdown",
   "metadata": {},
   "source": [
    "Применить как минимум 3 различных алгоритма (например, метод опорных векторов, логистическая регрессия и градиентный бустинг).\n"
   ]
  },
  {
   "cell_type": "code",
   "execution_count": 3,
   "metadata": {},
   "outputs": [],
   "source": [
    "def fitModel(algoritm, x, y):\n",
    "    return algoritm.fit(x, y)\n",
    "\n",
    "def getModels(x, y):\n",
    "    algoritms = [KNeighborsClassifier(), DecisionTreeClassifier(), GradientBoostingClassifier()]\n",
    "    models = []\n",
    "    for algoritm in algoritms:\n",
    "        model = fitModel(algoritm, x, y)\n",
    "        models.append(model)\n",
    "    return models\n",
    "\n",
    "models = getModels(trainX, trainY)"
   ]
  },
  {
   "cell_type": "code",
   "execution_count": 4,
   "metadata": {},
   "outputs": [
    {
     "name": "stdout",
     "output_type": "stream",
     "text": [
      "[KNeighborsClassifier(algorithm='auto', leaf_size=30, metric='minkowski',\n",
      "           metric_params=None, n_jobs=1, n_neighbors=5, p=2,\n",
      "           weights='uniform'), DecisionTreeClassifier(class_weight=None, criterion='gini', max_depth=None,\n",
      "            max_features=None, max_leaf_nodes=None,\n",
      "            min_impurity_decrease=0.0, min_impurity_split=None,\n",
      "            min_samples_leaf=1, min_samples_split=2,\n",
      "            min_weight_fraction_leaf=0.0, presort=False, random_state=None,\n",
      "            splitter='best'), GradientBoostingClassifier(criterion='friedman_mse', init=None,\n",
      "              learning_rate=0.1, loss='deviance', max_depth=3,\n",
      "              max_features=None, max_leaf_nodes=None,\n",
      "              min_impurity_decrease=0.0, min_impurity_split=None,\n",
      "              min_samples_leaf=1, min_samples_split=2,\n",
      "              min_weight_fraction_leaf=0.0, n_estimators=100,\n",
      "              presort='auto', random_state=None, subsample=1.0, verbose=0,\n",
      "              warm_start=False)]\n"
     ]
    }
   ],
   "source": [
    "print models"
   ]
  },
  {
   "cell_type": "markdown",
   "metadata": {},
   "source": [
    "Какая метрика наиболее подходит для оценки качества алгоритма?\n"
   ]
  },
  {
   "cell_type": "markdown",
   "metadata": {},
   "source": [
    "Какой наибольшей доли правильных ответов (Accuracy) удалось достичь?\n"
   ]
  },
  {
   "cell_type": "code",
   "execution_count": 5,
   "metadata": {},
   "outputs": [
    {
     "name": "stdout",
     "output_type": "stream",
     "text": [
      "\n",
      "<class 'sklearn.neighbors.classification.KNeighborsClassifier'>\n",
      "<function accuracy_score at 0x1a1597b5f0> =========> 0.55\n",
      "<function f1_score at 0x1a1597b8c0> =========> 0.68085106383\n",
      "<function log_loss at 0x1a1597bc80> =========> 15.5427212408\n",
      "<function recall_score at 0x1a1597bb18> =========> 0.813559322034\n",
      "\n",
      "<class 'sklearn.tree.tree.DecisionTreeClassifier'>\n",
      "<function accuracy_score at 0x1a1597b5f0> =========> 0.58\n",
      "<function f1_score at 0x1a1597b8c0> =========> 0.671875\n",
      "<function log_loss at 0x1a1597bc80> =========> 14.5064939812\n",
      "<function recall_score at 0x1a1597bb18> =========> 0.728813559322\n",
      "\n",
      "<class 'sklearn.ensemble.gradient_boosting.GradientBoostingClassifier'>\n",
      "<function accuracy_score at 0x1a1597b5f0> =========> 0.55\n",
      "<function f1_score at 0x1a1597b8c0> =========> 0.676258992806\n",
      "<function log_loss at 0x1a1597bc80> =========> 15.5427132449\n",
      "<function recall_score at 0x1a1597bb18> =========> 0.796610169492\n"
     ]
    }
   ],
   "source": [
    "def getMetrics(models, testX, testY):\n",
    "    metrics = [accuracy_score, f1_score, log_loss, recall_score]\n",
    "    \n",
    "    results = dict()\n",
    "\n",
    "    for model in models:\n",
    "        print \"\\n\", type(model)\n",
    "        predict = model.predict(testX)\n",
    "        metricsValue = []\n",
    "        for metric in metrics:\n",
    "            print str(metric), \"=========>\", metric(testY, predict)\n",
    "            metricsValue.append(metric(testY, predict))\n",
    "        results[str(type(model))] = metricsValue\n",
    "    return results\n",
    "            \n",
    "metrics = getMetrics(models, testX, testY)"
   ]
  },
  {
   "cell_type": "markdown",
   "metadata": {},
   "source": [
    "Какой размер обучающей выборки необходим, чтобы достигнуть доли правильных ответов минимум 0.95?\n"
   ]
  },
  {
   "cell_type": "code",
   "execution_count": 6,
   "metadata": {},
   "outputs": [],
   "source": [
    "def investigation(rowsCount):\n",
    "    trainX, testX, trainY, testY = getData(\"Base128.txt\", rowsCount=rowsCount)\n",
    "    models = getModels(trainX, trainY)\n",
    "    metrics = getMetrics(models, testX, testY)\n",
    "    return metrics"
   ]
  },
  {
   "cell_type": "markdown",
   "metadata": {},
   "source": [
    "Как зависит доля правильных ответов от N?\n"
   ]
  },
  {
   "cell_type": "code",
   "execution_count": 7,
   "metadata": {},
   "outputs": [
    {
     "name": "stdout",
     "output_type": "stream",
     "text": [
      "\n",
      "100\n",
      "\n",
      "<class 'sklearn.neighbors.classification.KNeighborsClassifier'>\n",
      "<function accuracy_score at 0x1a1597b5f0> =========> 0.65\n",
      "<function f1_score at 0x1a1597b8c0> =========> 0.758620689655\n",
      "<function log_loss at 0x1a1597bc80> =========> 12.0887316577\n",
      "<function recall_score at 0x1a1597bb18> =========> 0.785714285714\n",
      "\n",
      "<class 'sklearn.tree.tree.DecisionTreeClassifier'>\n",
      "<function accuracy_score at 0x1a1597b5f0> =========> 0.7\n",
      "<function f1_score at 0x1a1597b8c0> =========> 0.8125\n",
      "<function log_loss at 0x1a1597bc80> =========> 10.3618328178\n",
      "<function recall_score at 0x1a1597bb18> =========> 0.928571428571\n",
      "\n",
      "<class 'sklearn.ensemble.gradient_boosting.GradientBoostingClassifier'>\n",
      "<function accuracy_score at 0x1a1597b5f0> =========> 0.65\n",
      "<function f1_score at 0x1a1597b8c0> =========> 0.774193548387\n",
      "<function log_loss at 0x1a1597bc80> =========> 12.0887716376\n",
      "<function recall_score at 0x1a1597bb18> =========> 0.857142857143\n",
      "\n",
      "1000\n",
      "\n",
      "<class 'sklearn.neighbors.classification.KNeighborsClassifier'>\n",
      "<function accuracy_score at 0x1a1597b5f0> =========> 0.53\n",
      "<function f1_score at 0x1a1597b8c0> =========> 0.654411764706\n",
      "<function log_loss at 0x1a1597bc80> =========> 16.2334887728\n",
      "<function recall_score at 0x1a1597bb18> =========> 0.760683760684\n",
      "\n",
      "<class 'sklearn.tree.tree.DecisionTreeClassifier'>\n",
      "<function accuracy_score at 0x1a1597b5f0> =========> 0.59\n",
      "<function f1_score at 0x1a1597b8c0> =========> 0.655462184874\n",
      "<function log_loss at 0x1a1597bc80> =========> 14.1610702354\n",
      "<function recall_score at 0x1a1597bb18> =========> 0.666666666667\n",
      "\n",
      "<class 'sklearn.ensemble.gradient_boosting.GradientBoostingClassifier'>\n",
      "<function accuracy_score at 0x1a1597b5f0> =========> 0.555\n",
      "<function f1_score at 0x1a1597b8c0> =========> 0.676363636364\n",
      "<function log_loss at 0x1a1597bc80> =========> 15.3700153649\n",
      "<function recall_score at 0x1a1597bb18> =========> 0.794871794872\n",
      "\n",
      "10000\n",
      "\n",
      "<class 'sklearn.neighbors.classification.KNeighborsClassifier'>\n",
      "<function accuracy_score at 0x1a1597b5f0> =========> 0.551\n",
      "<function f1_score at 0x1a1597b8c0> =========> 0.666666666667\n",
      "<function log_loss at 0x1a1597bc80> =========> 15.5081240938\n",
      "<function recall_score at 0x1a1597bb18> =========> 0.711568938193\n",
      "\n",
      "<class 'sklearn.tree.tree.DecisionTreeClassifier'>\n",
      "<function accuracy_score at 0x1a1597b5f0> =========> 0.527\n",
      "<function f1_score at 0x1a1597b8c0> =========> 0.612929623568\n",
      "<function log_loss at 0x1a1597bc80> =========> 16.3370143476\n",
      "<function recall_score at 0x1a1597bb18> =========> 0.593502377179\n",
      "\n",
      "<class 'sklearn.ensemble.gradient_boosting.GradientBoostingClassifier'>\n",
      "<function accuracy_score at 0x1a1597b5f0> =========> 0.6275\n",
      "<function f1_score at 0x1a1597b8c0> =========> 0.756297023225\n",
      "<function log_loss at 0x1a1597bc80> =========> 12.8659496785\n",
      "<function recall_score at 0x1a1597bb18> =========> 0.916006339144\n",
      "\n",
      "20000\n",
      "\n",
      "<class 'sklearn.neighbors.classification.KNeighborsClassifier'>\n",
      "<function accuracy_score at 0x1a1597b5f0> =========> 0.56525\n",
      "<function f1_score at 0x1a1597b8c0> =========> 0.675982858208\n",
      "<function log_loss at 0x1a1597bc80> =========> 15.0159441314\n",
      "<function recall_score at 0x1a1597bb18> =========> 0.726471766119\n",
      "\n",
      "<class 'sklearn.tree.tree.DecisionTreeClassifier'>\n",
      "<function accuracy_score at 0x1a1597b5f0> =========> 0.52225\n",
      "<function f1_score at 0x1a1597b8c0> =========> 0.609122519943\n",
      "<function log_loss at 0x1a1597bc80> =========> 16.5010809318\n",
      "<function recall_score at 0x1a1597bb18> =========> 0.596315578694\n",
      "\n",
      "<class 'sklearn.ensemble.gradient_boosting.GradientBoostingClassifier'>\n",
      "<function accuracy_score at 0x1a1597b5f0> =========> 0.6245\n",
      "<function f1_score at 0x1a1597b8c0> =========> 0.757115135834\n",
      "<function log_loss at 0x1a1597bc80> =========> 12.9695796008\n",
      "<function recall_score at 0x1a1597bb18> =========> 0.937525030036\n",
      "\n",
      "30000\n",
      "\n",
      "<class 'sklearn.neighbors.classification.KNeighborsClassifier'>\n",
      "<function accuracy_score at 0x1a1597b5f0> =========> 0.553\n",
      "<function f1_score at 0x1a1597b8c0> =========> 0.662386706949\n",
      "<function log_loss at 0x1a1597bc80> =========> 15.4390456082\n",
      "<function recall_score at 0x1a1597bb18> =========> 0.707638515331\n",
      "\n",
      "<class 'sklearn.tree.tree.DecisionTreeClassifier'>\n",
      "<function accuracy_score at 0x1a1597b5f0> =========> 0.5265\n",
      "<function f1_score at 0x1a1597b8c0> =========> 0.606890826069\n",
      "<function log_loss at 0x1a1597bc80> =========> 16.3542860014\n",
      "<function recall_score at 0x1a1597bb18> =========> 0.589833243679\n",
      "\n",
      "<class 'sklearn.ensemble.gradient_boosting.GradientBoostingClassifier'>\n",
      "<function accuracy_score at 0x1a1597b5f0> =========> 0.615333333333\n",
      "<function f1_score at 0x1a1597b8c0> =========> 0.750809760311\n",
      "<function log_loss at 0x1a1597bc80> =========> 13.2861914479\n",
      "<function recall_score at 0x1a1597bb18> =========> 0.935180204411\n"
     ]
    }
   ],
   "source": [
    "history = dict()\n",
    "nCounts = [100, 1000, 10000, 20000, 30000]\n",
    "for n in nCounts:\n",
    "    print \"\\n\", n\n",
    "    history[n] = investigation(n)"
   ]
  },
  {
   "cell_type": "markdown",
   "metadata": {},
   "source": [
    "Ответы на вопросы представьте в виде графиков.\n"
   ]
  },
  {
   "cell_type": "code",
   "execution_count": 47,
   "metadata": {},
   "outputs": [
    {
     "data": {
      "image/png": "[encoded data removed]",
      "text/plain": [
       "<matplotlib.figure.Figure at 0x1a169b5b10>"
      ]
     },
     "metadata": {},
     "output_type": "display_data"
    },
    {
     "data": {
      "image/png": "[encoded data removed]",
      "text/plain": [
       "<matplotlib.figure.Figure at 0x1a1664f410>"
      ]
     },
     "metadata": {},
     "output_type": "display_data"
    },
    {
     "data": {
      "image/png": "[encoded data removed]",
      "text/plain": [
       "<matplotlib.figure.Figure at 0x1a16740d10>"
      ]
     },
     "metadata": {},
     "output_type": "display_data"
    }
   ],
   "source": [
    "originalKeys = history.values()[0].keys()\n",
    "\n",
    "accuracy_score_values = dict()\n",
    "f1_score_values = dict()\n",
    "log_loss_values = dict()\n",
    "recall_score_values = dict()\n",
    "\n",
    "for key in originalKeys:\n",
    "    for n in history:\n",
    "        values = history[n][key]\n",
    "        accuracy_score_values[n] = values[0]\n",
    "        f1_score_values[n] = values[1]\n",
    "        recall_score_values[n] = values[3]\n",
    "        \n",
    "    pyplot.scatter(accuracy_score_values.keys(), accuracy_score_values.values(), c=\"red\")\n",
    "    pyplot.scatter(f1_score_values.keys(), f1_score_values.values(), c=\"green\")\n",
    "    pyplot.scatter(recall_score_values.keys(), recall_score_values.values(), c=\"orange\")\n",
    "    pyplot.show()"
   ]
  }
 ],
 "metadata": {
  "kernelspec": {
   "display_name": "Python 2",
   "language": "python",
   "name": "python2"
  },
  "language_info": {
   "codemirror_mode": {
    "name": "ipython",
    "version": 2
   },
   "file_extension": ".py",
   "mimetype": "text/x-python",
   "name": "python",
   "nbconvert_exporter": "python",
   "pygments_lexer": "ipython2",
   "version": "2.7.14"
  }
 },
 "nbformat": 4,
 "nbformat_minor": 2
}
