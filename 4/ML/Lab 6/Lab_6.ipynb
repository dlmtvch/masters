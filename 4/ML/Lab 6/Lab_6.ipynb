{
  "nbformat": 4,
  "nbformat_minor": 0,
  "metadata": {
    "colab": {
      "name": "Lab 6.ipynb",
      "provenance": []
    },
    "kernelspec": {
      "name": "python3",
      "display_name": "Python 3"
    }
  },
  "cells": [
    {
      "cell_type": "markdown",
      "metadata": {
        "id": "yA8RguwlN_rH",
        "colab_type": "text"
      },
      "source": [
        "**Лабораторная работа №6. Применение сверточных нейронных сетей (многоклассовая классификация)**\n"
      ]
    },
    {
      "cell_type": "markdown",
      "metadata": {
        "id": "-dcNY-9DOBmC",
        "colab_type": "text"
      },
      "source": [
        "**Данные:** Набор данных для распознавания языка жестов, который состоит из изображений размерности 28x28 в оттенках серого (значение пикселя от 0 до 255). Каждое из изображений обозначает букву латинского алфавита, обозначенную с помощью жеста, как показано на рисунке ниже (рисунок цветной, а изображения в наборе данных в оттенках серого). Обучающая выборка включает в себя 27,455 изображений, а контрольная выборка содержит 7172 изображения. Данные в виде csv-файлов можно скачать на сайте Kaggle -> https://www.kaggle.com/datamunge/sign-language-mnist\n"
      ]
    },
    {
      "cell_type": "code",
      "metadata": {
        "id": "Ti8o2hYhQypL",
        "colab_type": "code",
        "colab": {}
      },
      "source": [
        "# !pip install tensorflow==1.14.0\n",
        "import pandas as pd\n",
        "import tensorflow as tf\n",
        "from keras.utils import np_utils\n",
        "from sklearn.model_selection import train_test_split\n",
        "from tensorflow.keras import layers, models, Sequential\n",
        "from sklearn.metrics import roc_auc_score\n",
        "from keras.layers import Conv2D, MaxPooling2D, GlobalAveragePooling2D, Dense\n",
        "from keras.preprocessing.image import ImageDataGenerator\n",
        "from keras.models import Model\n",
        "from tensorflow.keras.layers import InputLayer\n",
        "from keras.layers import Concatenate"
      ],
      "execution_count": 0,
      "outputs": []
    },
    {
      "cell_type": "markdown",
      "metadata": {
        "id": "OehMzNcnOGlm",
        "colab_type": "text"
      },
      "source": [
        "**Задание 1.**\n",
        "Загрузите данные. Разделите исходный набор данных на обучающую и валидационную выборки.\n",
        "\n"
      ]
    },
    {
      "cell_type": "code",
      "metadata": {
        "id": "cvCtRD2HOSjw",
        "colab_type": "code",
        "outputId": "972c5fbe-b3f1-4e3e-ac43-d149a8eba50d",
        "colab": {
          "base_uri": "https://localhost:8080/",
          "height": 634
        }
      },
      "source": [
        "df = pd.read_csv('/content/drive/My Drive/kaggle/sign_mnist_train.csv')\n",
        "print(df)\n",
        "\n",
        "testDF = pd.read_csv('/content/drive/My Drive/kaggle/sign_mnist_test.csv')\n",
        "print(testDF)"
      ],
      "execution_count": 0,
      "outputs": [
        {
          "output_type": "stream",
          "text": [
            "       label  pixel1  pixel2  pixel3  ...  pixel781  pixel782  pixel783  pixel784\n",
            "0          3     107     118     127  ...       206       204       203       202\n",
            "1          6     155     157     156  ...       175       103       135       149\n",
            "2          2     187     188     188  ...       198       195       194       195\n",
            "3          2     211     211     212  ...       225       222       229       163\n",
            "4         13     164     167     170  ...       157       163       164       179\n",
            "...      ...     ...     ...     ...  ...       ...       ...       ...       ...\n",
            "27450     13     189     189     190  ...       234       200       222       225\n",
            "27451     23     151     154     157  ...       195       195       195       194\n",
            "27452     18     174     174     174  ...       203       202       200       200\n",
            "27453     17     177     181     184  ...        47        64        87        93\n",
            "27454     23     179     180     180  ...       197       205       209       215\n",
            "\n",
            "[27455 rows x 785 columns]\n",
            "      label  pixel1  pixel2  pixel3  ...  pixel781  pixel782  pixel783  pixel784\n",
            "0         6     149     149     150  ...       106       112       120       107\n",
            "1         5     126     128     131  ...       184       184       182       180\n",
            "2        10      85      88      92  ...       226       225       224       222\n",
            "3         0     203     205     207  ...       230       240       253       255\n",
            "4         3     188     191     193  ...        49        46        46        53\n",
            "...     ...     ...     ...     ...  ...       ...       ...       ...       ...\n",
            "7167      1     135     119     108  ...       184       176       167       163\n",
            "7168     12     157     159     161  ...       210       210       209       208\n",
            "7169      2     190     191     190  ...       210       211       209       208\n",
            "7170      4     201     205     208  ...        91        67        70        63\n",
            "7171      2     173     174     173  ...       195       195       193       192\n",
            "\n",
            "[7172 rows x 785 columns]\n"
          ],
          "name": "stdout"
        }
      ]
    },
    {
      "cell_type": "code",
      "metadata": {
        "id": "92h5Xv0ZWJKt",
        "colab_type": "code",
        "outputId": "6ab26fb0-4afa-4540-bb7a-805f5bff8959",
        "colab": {
          "base_uri": "https://localhost:8080/",
          "height": 62
        }
      },
      "source": [
        "def getXandY(df):\n",
        "  y = df[\"label\"].values.reshape((df.shape[0], 1)) \n",
        "  x = df.drop(columns=\"label\").values.reshape((df.shape[0], 28, 28, 1))\n",
        "  print(y.shape, x.shape)\n",
        "  return x, y\n",
        "\n",
        "x, y = getXandY(df)\n",
        "tX, tY = getXandY(testDF)"
      ],
      "execution_count": 0,
      "outputs": [
        {
          "output_type": "stream",
          "text": [
            "(27455, 1) (27455, 28, 28, 1)\n",
            "(7172, 1) (7172, 28, 28, 1)\n"
          ],
          "name": "stdout"
        }
      ]
    },
    {
      "cell_type": "code",
      "metadata": {
        "id": "bfKQXoHuY-0L",
        "colab_type": "code",
        "colab": {}
      },
      "source": [
        "trainX, testX, trainY, testY = train_test_split(x, y, test_size=.25)"
      ],
      "execution_count": 0,
      "outputs": []
    },
    {
      "cell_type": "markdown",
      "metadata": {
        "id": "rNcVyPgBOTBa",
        "colab_type": "text"
      },
      "source": [
        "**Задание 2.**\n",
        "Реализуйте глубокую нейронную сеть со сверточными слоями. Какое качество классификации получено? Какая архитектура сети была использована?\n"
      ]
    },
    {
      "cell_type": "code",
      "metadata": {
        "id": "_GK8JCUkOUW6",
        "colab_type": "code",
        "outputId": "ef8daeca-c368-4a5c-a91f-e57908542008",
        "colab": {
          "base_uri": "https://localhost:8080/",
          "height": 722
        }
      },
      "source": [
        "model = Sequential([\n",
        "    layers.Conv2D(64, kernel_size=3, activation='relu', input_shape=(28,28,1)),\n",
        "    layers.Conv2D(32, kernel_size=5, activation='relu'),\n",
        "    layers.MaxPooling2D((2, 2)),\n",
        "    layers.Conv2D(64, (3, 3), activation='relu', padding='same'),\n",
        "    layers.MaxPooling2D((2, 2)),\n",
        "    layers.Conv2D(128, (3, 3), activation='relu', padding='same'),\n",
        "    layers.MaxPooling2D((2, 2)),\n",
        "    layers.Flatten(),\n",
        "    layers.Dense(25, activation='softmax')\n",
        "])\n",
        "\n",
        "model.compile(optimizer='adam', loss='sparse_categorical_crossentropy', metrics=['accuracy'])\n",
        "\n",
        "model.fit(trainX, trainY, validation_data=(testX, testY), epochs=15)\n"
      ],
      "execution_count": 0,
      "outputs": [
        {
          "output_type": "stream",
          "text": [
            "Train on 20591 samples, validate on 6864 samples\n",
            "Epoch 1/15\n",
            "20591/20591 [==============================] - 144s 7ms/sample - loss: 1.0571 - acc: 0.7136 - val_loss: 0.0424 - val_acc: 0.9850\n",
            "Epoch 2/15\n",
            "20591/20591 [==============================] - 145s 7ms/sample - loss: 0.0364 - acc: 0.9891 - val_loss: 0.0588 - val_acc: 0.9768\n",
            "Epoch 3/15\n",
            "20591/20591 [==============================] - 146s 7ms/sample - loss: 0.0436 - acc: 0.9884 - val_loss: 0.0113 - val_acc: 0.9969\n",
            "Epoch 4/15\n",
            "20591/20591 [==============================] - 146s 7ms/sample - loss: 0.0145 - acc: 0.9957 - val_loss: 7.3109e-04 - val_acc: 0.9999\n",
            "Epoch 5/15\n",
            "20591/20591 [==============================] - 147s 7ms/sample - loss: 8.1862e-05 - acc: 1.0000 - val_loss: 6.7947e-04 - val_acc: 0.9999\n",
            "Epoch 6/15\n",
            "20591/20591 [==============================] - 145s 7ms/sample - loss: 3.6115e-05 - acc: 1.0000 - val_loss: 6.0458e-04 - val_acc: 0.9999\n",
            "Epoch 7/15\n",
            "20591/20591 [==============================] - 144s 7ms/sample - loss: 2.1497e-05 - acc: 1.0000 - val_loss: 6.1721e-04 - val_acc: 0.9999\n",
            "Epoch 8/15\n",
            "20591/20591 [==============================] - 144s 7ms/sample - loss: 1.3678e-05 - acc: 1.0000 - val_loss: 5.6933e-04 - val_acc: 0.9999\n",
            "Epoch 9/15\n",
            "20591/20591 [==============================] - 142s 7ms/sample - loss: 9.1778e-06 - acc: 1.0000 - val_loss: 5.2476e-04 - val_acc: 0.9999\n",
            "Epoch 10/15\n",
            "20591/20591 [==============================] - 142s 7ms/sample - loss: 6.2680e-06 - acc: 1.0000 - val_loss: 5.4921e-04 - val_acc: 0.9999\n",
            "Epoch 11/15\n",
            "20591/20591 [==============================] - 141s 7ms/sample - loss: 4.3298e-06 - acc: 1.0000 - val_loss: 5.2253e-04 - val_acc: 0.9999\n",
            "Epoch 12/15\n",
            "20591/20591 [==============================] - 141s 7ms/sample - loss: 3.0284e-06 - acc: 1.0000 - val_loss: 5.1974e-04 - val_acc: 0.9999\n",
            "Epoch 13/15\n",
            "20591/20591 [==============================] - 141s 7ms/sample - loss: 2.1118e-06 - acc: 1.0000 - val_loss: 4.9742e-04 - val_acc: 0.9999\n",
            "Epoch 14/15\n",
            "20591/20591 [==============================] - 141s 7ms/sample - loss: 1.4905e-06 - acc: 1.0000 - val_loss: 5.0703e-04 - val_acc: 0.9999\n",
            "Epoch 15/15\n",
            "20591/20591 [==============================] - 142s 7ms/sample - loss: 1.0459e-06 - acc: 1.0000 - val_loss: 5.2003e-04 - val_acc: 0.9999\n"
          ],
          "name": "stdout"
        },
        {
          "output_type": "execute_result",
          "data": {
            "text/plain": [
              "<tensorflow.python.keras.callbacks.History at 0x7f59071aa400>"
            ]
          },
          "metadata": {
            "tags": []
          },
          "execution_count": 32
        }
      ]
    },
    {
      "cell_type": "code",
      "metadata": {
        "id": "KqK-p4f5d6w6",
        "colab_type": "code",
        "outputId": "ada394cd-e4d2-4a4b-897a-c492a666517a",
        "colab": {
          "base_uri": "https://localhost:8080/",
          "height": 40
        }
      },
      "source": [
        "test_loss, test_acc = model.evaluate(tX,  tY, verbose=2)\n"
      ],
      "execution_count": 0,
      "outputs": [
        {
          "output_type": "stream",
          "text": [
            "7172/7172 - 10s - loss: 0.9118 - acc: 0.8938\n"
          ],
          "name": "stdout"
        }
      ]
    },
    {
      "cell_type": "markdown",
      "metadata": {
        "id": "c5OFheDaOUv9",
        "colab_type": "text"
      },
      "source": [
        "**Задание 3.**\n",
        "Примените дополнение данных (data augmentation). Как это повлияло на качество классификатора? \n"
      ]
    },
    {
      "cell_type": "code",
      "metadata": {
        "id": "n2798xXQOVyI",
        "colab_type": "code",
        "colab": {}
      },
      "source": [
        "datagen = ImageDataGenerator(zoom_range=[0.5,1.0], brightness_range=[0.2,1.0])\n",
        "train_generator = datagen.flow(trainX, trainY, batch_size=1)\n",
        "test_generator = datagen.flow(testX, testY, batch_size=1)"
      ],
      "execution_count": 0,
      "outputs": []
    },
    {
      "cell_type": "code",
      "metadata": {
        "id": "RQ_6l1xEvZN5",
        "colab_type": "code",
        "outputId": "647f0ad7-7f7a-4fc9-c648-1daf6e3e3df2",
        "colab": {
          "base_uri": "https://localhost:8080/",
          "height": 700
        }
      },
      "source": [
        "model.fit_generator(\n",
        "  train_generator,\n",
        "  epochs=15,\n",
        "  validation_data=test_generator)"
      ],
      "execution_count": 0,
      "outputs": [
        {
          "output_type": "stream",
          "text": [
            "Epoch 1/15\n",
            "20591/20591 [==============================] - 291s 14ms/step - loss: 3.1809 - acc: 0.0447 - val_loss: 3.1770 - val_acc: 0.0455\n",
            "Epoch 2/15\n",
            "20591/20591 [==============================] - 283s 14ms/step - loss: 3.2048 - acc: 0.0444 - val_loss: 3.1705 - val_acc: 0.0447\n",
            "Epoch 3/15\n",
            "20591/20591 [==============================] - 278s 13ms/step - loss: 3.1752 - acc: 0.0470 - val_loss: 3.1752 - val_acc: 0.0398\n",
            "Epoch 4/15\n",
            "20591/20591 [==============================] - 282s 14ms/step - loss: 3.1747 - acc: 0.0459 - val_loss: 3.1761 - val_acc: 0.0455\n",
            "Epoch 5/15\n",
            "20591/20591 [==============================] - 287s 14ms/step - loss: 3.1806 - acc: 0.0462 - val_loss: 3.1747 - val_acc: 0.0446\n",
            "Epoch 6/15\n",
            "20591/20591 [==============================] - 282s 14ms/step - loss: 3.2386 - acc: 0.0478 - val_loss: 3.1763 - val_acc: 0.0453\n",
            "Epoch 7/15\n",
            "20591/20591 [==============================] - 293s 14ms/step - loss: 3.1835 - acc: 0.0448 - val_loss: 3.1741 - val_acc: 0.0424\n",
            "Epoch 8/15\n",
            "20591/20591 [==============================] - 279s 14ms/step - loss: 3.1763 - acc: 0.0440 - val_loss: 3.1778 - val_acc: 0.0455\n",
            "Epoch 9/15\n",
            "20591/20591 [==============================] - 280s 14ms/step - loss: 3.1751 - acc: 0.0440 - val_loss: 3.1771 - val_acc: 0.0455\n",
            "Epoch 10/15\n",
            "20591/20591 [==============================] - 283s 14ms/step - loss: 3.1761 - acc: 0.0436 - val_loss: 3.1768 - val_acc: 0.0455\n",
            "Epoch 11/15\n",
            "20591/20591 [==============================] - 289s 14ms/step - loss: 3.1866 - acc: 0.0460 - val_loss: 3.1766 - val_acc: 0.0503\n",
            "Epoch 12/15\n",
            "20591/20591 [==============================] - 287s 14ms/step - loss: 3.1774 - acc: 0.0453 - val_loss: 3.1745 - val_acc: 0.0510\n",
            "Epoch 13/15\n",
            "20591/20591 [==============================] - 290s 14ms/step - loss: 3.1773 - acc: 0.0464 - val_loss: 3.1788 - val_acc: 0.0514\n",
            "Epoch 14/15\n",
            "20591/20591 [==============================] - 282s 14ms/step - loss: 3.1792 - acc: 0.0450 - val_loss: 3.1771 - val_acc: 0.0433\n",
            "Epoch 15/15\n",
            "20591/20591 [==============================] - 279s 14ms/step - loss: 3.1765 - acc: 0.0456 - val_loss: 3.1749 - val_acc: 0.0440\n"
          ],
          "name": "stdout"
        },
        {
          "output_type": "execute_result",
          "data": {
            "text/plain": [
              "<tensorflow.python.keras.callbacks.History at 0x7f5906ab69e8>"
            ]
          },
          "metadata": {
            "tags": []
          },
          "execution_count": 66
        }
      ]
    },
    {
      "cell_type": "code",
      "metadata": {
        "id": "rQJ6NY0tAoKX",
        "colab_type": "code",
        "outputId": "0eec2c43-1395-47f3-8fcf-946d0d9fea9c",
        "colab": {
          "base_uri": "https://localhost:8080/",
          "height": 40
        }
      },
      "source": [
        "test_loss, test_acc = model.evaluate(tX,  tY, verbose=2)"
      ],
      "execution_count": 0,
      "outputs": [
        {
          "output_type": "stream",
          "text": [
            "7172/7172 - 10s - loss: 3.2389 - acc: 0.0291\n"
          ],
          "name": "stdout"
        }
      ]
    },
    {
      "cell_type": "markdown",
      "metadata": {
        "id": "PwKRyISCOWMm",
        "colab_type": "text"
      },
      "source": [
        "**Задание 4.**\n",
        "Поэкспериментируйте с готовыми нейронными сетями (например, AlexNet, VGG16, Inception и т.п.), применив передаточное обучение. Как это повлияло на качество классификатора? Можно ли было обойтись без него?\n",
        "Какой максимальный результат удалось получить на контрольной выборке?"
      ]
    },
    {
      "cell_type": "code",
      "metadata": {
        "id": "WRLSmSQ2QTkT",
        "colab_type": "code",
        "outputId": "6ead69bc-416d-48dd-c1c5-1594a0a6f69e",
        "colab": {
          "base_uri": "https://localhost:8080/",
          "height": 1000
        }
      },
      "source": [
        "from keras.applications import MobileNet\n",
        "\n",
        "base_model=MobileNet(weights='imagenet',include_top=False) \n",
        "\n",
        "x=base_model.output\n",
        "x=GlobalAveragePooling2D()(x)\n",
        "x=Dense(1024,activation='relu')(x) \n",
        "x=Dense(1024,activation='relu')(x) \n",
        "x=Dense(512,activation='relu')(x)\n",
        "preds=Dense(25,activation='softmax')(x) \n",
        "model=Model(inputs=base_model.input,outputs=preds)\n",
        "model.summary()"
      ],
      "execution_count": 92,
      "outputs": [
        {
          "output_type": "stream",
          "text": [
            "/usr/local/lib/python3.6/dist-packages/keras_applications/mobilenet.py:207: UserWarning: `input_shape` is undefined or non-square, or `rows` is not in [128, 160, 192, 224]. Weights for input shape (224, 224) will be loaded as the default.\n",
            "  warnings.warn('`input_shape` is undefined or non-square, '\n"
          ],
          "name": "stderr"
        },
        {
          "output_type": "stream",
          "text": [
            "Model: \"model_5\"\n",
            "_________________________________________________________________\n",
            "Layer (type)                 Output Shape              Param #   \n",
            "=================================================================\n",
            "input_6 (InputLayer)         (None, None, None, 3)     0         \n",
            "_________________________________________________________________\n",
            "conv1_pad (ZeroPadding2D)    (None, None, None, 3)     0         \n",
            "_________________________________________________________________\n",
            "conv1 (Conv2D)               (None, None, None, 32)    864       \n",
            "_________________________________________________________________\n",
            "conv1_bn (BatchNormalization (None, None, None, 32)    128       \n",
            "_________________________________________________________________\n",
            "conv1_relu (ReLU)            (None, None, None, 32)    0         \n",
            "_________________________________________________________________\n",
            "conv_dw_1 (DepthwiseConv2D)  (None, None, None, 32)    288       \n",
            "_________________________________________________________________\n",
            "conv_dw_1_bn (BatchNormaliza (None, None, None, 32)    128       \n",
            "_________________________________________________________________\n",
            "conv_dw_1_relu (ReLU)        (None, None, None, 32)    0         \n",
            "_________________________________________________________________\n",
            "conv_pw_1 (Conv2D)           (None, None, None, 64)    2048      \n",
            "_________________________________________________________________\n",
            "conv_pw_1_bn (BatchNormaliza (None, None, None, 64)    256       \n",
            "_________________________________________________________________\n",
            "conv_pw_1_relu (ReLU)        (None, None, None, 64)    0         \n",
            "_________________________________________________________________\n",
            "conv_pad_2 (ZeroPadding2D)   (None, None, None, 64)    0         \n",
            "_________________________________________________________________\n",
            "conv_dw_2 (DepthwiseConv2D)  (None, None, None, 64)    576       \n",
            "_________________________________________________________________\n",
            "conv_dw_2_bn (BatchNormaliza (None, None, None, 64)    256       \n",
            "_________________________________________________________________\n",
            "conv_dw_2_relu (ReLU)        (None, None, None, 64)    0         \n",
            "_________________________________________________________________\n",
            "conv_pw_2 (Conv2D)           (None, None, None, 128)   8192      \n",
            "_________________________________________________________________\n",
            "conv_pw_2_bn (BatchNormaliza (None, None, None, 128)   512       \n",
            "_________________________________________________________________\n",
            "conv_pw_2_relu (ReLU)        (None, None, None, 128)   0         \n",
            "_________________________________________________________________\n",
            "conv_dw_3 (DepthwiseConv2D)  (None, None, None, 128)   1152      \n",
            "_________________________________________________________________\n",
            "conv_dw_3_bn (BatchNormaliza (None, None, None, 128)   512       \n",
            "_________________________________________________________________\n",
            "conv_dw_3_relu (ReLU)        (None, None, None, 128)   0         \n",
            "_________________________________________________________________\n",
            "conv_pw_3 (Conv2D)           (None, None, None, 128)   16384     \n",
            "_________________________________________________________________\n",
            "conv_pw_3_bn (BatchNormaliza (None, None, None, 128)   512       \n",
            "_________________________________________________________________\n",
            "conv_pw_3_relu (ReLU)        (None, None, None, 128)   0         \n",
            "_________________________________________________________________\n",
            "conv_pad_4 (ZeroPadding2D)   (None, None, None, 128)   0         \n",
            "_________________________________________________________________\n",
            "conv_dw_4 (DepthwiseConv2D)  (None, None, None, 128)   1152      \n",
            "_________________________________________________________________\n",
            "conv_dw_4_bn (BatchNormaliza (None, None, None, 128)   512       \n",
            "_________________________________________________________________\n",
            "conv_dw_4_relu (ReLU)        (None, None, None, 128)   0         \n",
            "_________________________________________________________________\n",
            "conv_pw_4 (Conv2D)           (None, None, None, 256)   32768     \n",
            "_________________________________________________________________\n",
            "conv_pw_4_bn (BatchNormaliza (None, None, None, 256)   1024      \n",
            "_________________________________________________________________\n",
            "conv_pw_4_relu (ReLU)        (None, None, None, 256)   0         \n",
            "_________________________________________________________________\n",
            "conv_dw_5 (DepthwiseConv2D)  (None, None, None, 256)   2304      \n",
            "_________________________________________________________________\n",
            "conv_dw_5_bn (BatchNormaliza (None, None, None, 256)   1024      \n",
            "_________________________________________________________________\n",
            "conv_dw_5_relu (ReLU)        (None, None, None, 256)   0         \n",
            "_________________________________________________________________\n",
            "conv_pw_5 (Conv2D)           (None, None, None, 256)   65536     \n",
            "_________________________________________________________________\n",
            "conv_pw_5_bn (BatchNormaliza (None, None, None, 256)   1024      \n",
            "_________________________________________________________________\n",
            "conv_pw_5_relu (ReLU)        (None, None, None, 256)   0         \n",
            "_________________________________________________________________\n",
            "conv_pad_6 (ZeroPadding2D)   (None, None, None, 256)   0         \n",
            "_________________________________________________________________\n",
            "conv_dw_6 (DepthwiseConv2D)  (None, None, None, 256)   2304      \n",
            "_________________________________________________________________\n",
            "conv_dw_6_bn (BatchNormaliza (None, None, None, 256)   1024      \n",
            "_________________________________________________________________\n",
            "conv_dw_6_relu (ReLU)        (None, None, None, 256)   0         \n",
            "_________________________________________________________________\n",
            "conv_pw_6 (Conv2D)           (None, None, None, 512)   131072    \n",
            "_________________________________________________________________\n",
            "conv_pw_6_bn (BatchNormaliza (None, None, None, 512)   2048      \n",
            "_________________________________________________________________\n",
            "conv_pw_6_relu (ReLU)        (None, None, None, 512)   0         \n",
            "_________________________________________________________________\n",
            "conv_dw_7 (DepthwiseConv2D)  (None, None, None, 512)   4608      \n",
            "_________________________________________________________________\n",
            "conv_dw_7_bn (BatchNormaliza (None, None, None, 512)   2048      \n",
            "_________________________________________________________________\n",
            "conv_dw_7_relu (ReLU)        (None, None, None, 512)   0         \n",
            "_________________________________________________________________\n",
            "conv_pw_7 (Conv2D)           (None, None, None, 512)   262144    \n",
            "_________________________________________________________________\n",
            "conv_pw_7_bn (BatchNormaliza (None, None, None, 512)   2048      \n",
            "_________________________________________________________________\n",
            "conv_pw_7_relu (ReLU)        (None, None, None, 512)   0         \n",
            "_________________________________________________________________\n",
            "conv_dw_8 (DepthwiseConv2D)  (None, None, None, 512)   4608      \n",
            "_________________________________________________________________\n",
            "conv_dw_8_bn (BatchNormaliza (None, None, None, 512)   2048      \n",
            "_________________________________________________________________\n",
            "conv_dw_8_relu (ReLU)        (None, None, None, 512)   0         \n",
            "_________________________________________________________________\n",
            "conv_pw_8 (Conv2D)           (None, None, None, 512)   262144    \n",
            "_________________________________________________________________\n",
            "conv_pw_8_bn (BatchNormaliza (None, None, None, 512)   2048      \n",
            "_________________________________________________________________\n",
            "conv_pw_8_relu (ReLU)        (None, None, None, 512)   0         \n",
            "_________________________________________________________________\n",
            "conv_dw_9 (DepthwiseConv2D)  (None, None, None, 512)   4608      \n",
            "_________________________________________________________________\n",
            "conv_dw_9_bn (BatchNormaliza (None, None, None, 512)   2048      \n",
            "_________________________________________________________________\n",
            "conv_dw_9_relu (ReLU)        (None, None, None, 512)   0         \n",
            "_________________________________________________________________\n",
            "conv_pw_9 (Conv2D)           (None, None, None, 512)   262144    \n",
            "_________________________________________________________________\n",
            "conv_pw_9_bn (BatchNormaliza (None, None, None, 512)   2048      \n",
            "_________________________________________________________________\n",
            "conv_pw_9_relu (ReLU)        (None, None, None, 512)   0         \n",
            "_________________________________________________________________\n",
            "conv_dw_10 (DepthwiseConv2D) (None, None, None, 512)   4608      \n",
            "_________________________________________________________________\n",
            "conv_dw_10_bn (BatchNormaliz (None, None, None, 512)   2048      \n",
            "_________________________________________________________________\n",
            "conv_dw_10_relu (ReLU)       (None, None, None, 512)   0         \n",
            "_________________________________________________________________\n",
            "conv_pw_10 (Conv2D)          (None, None, None, 512)   262144    \n",
            "_________________________________________________________________\n",
            "conv_pw_10_bn (BatchNormaliz (None, None, None, 512)   2048      \n",
            "_________________________________________________________________\n",
            "conv_pw_10_relu (ReLU)       (None, None, None, 512)   0         \n",
            "_________________________________________________________________\n",
            "conv_dw_11 (DepthwiseConv2D) (None, None, None, 512)   4608      \n",
            "_________________________________________________________________\n",
            "conv_dw_11_bn (BatchNormaliz (None, None, None, 512)   2048      \n",
            "_________________________________________________________________\n",
            "conv_dw_11_relu (ReLU)       (None, None, None, 512)   0         \n",
            "_________________________________________________________________\n",
            "conv_pw_11 (Conv2D)          (None, None, None, 512)   262144    \n",
            "_________________________________________________________________\n",
            "conv_pw_11_bn (BatchNormaliz (None, None, None, 512)   2048      \n",
            "_________________________________________________________________\n",
            "conv_pw_11_relu (ReLU)       (None, None, None, 512)   0         \n",
            "_________________________________________________________________\n",
            "conv_pad_12 (ZeroPadding2D)  (None, None, None, 512)   0         \n",
            "_________________________________________________________________\n",
            "conv_dw_12 (DepthwiseConv2D) (None, None, None, 512)   4608      \n",
            "_________________________________________________________________\n",
            "conv_dw_12_bn (BatchNormaliz (None, None, None, 512)   2048      \n",
            "_________________________________________________________________\n",
            "conv_dw_12_relu (ReLU)       (None, None, None, 512)   0         \n",
            "_________________________________________________________________\n",
            "conv_pw_12 (Conv2D)          (None, None, None, 1024)  524288    \n",
            "_________________________________________________________________\n",
            "conv_pw_12_bn (BatchNormaliz (None, None, None, 1024)  4096      \n",
            "_________________________________________________________________\n",
            "conv_pw_12_relu (ReLU)       (None, None, None, 1024)  0         \n",
            "_________________________________________________________________\n",
            "conv_dw_13 (DepthwiseConv2D) (None, None, None, 1024)  9216      \n",
            "_________________________________________________________________\n",
            "conv_dw_13_bn (BatchNormaliz (None, None, None, 1024)  4096      \n",
            "_________________________________________________________________\n",
            "conv_dw_13_relu (ReLU)       (None, None, None, 1024)  0         \n",
            "_________________________________________________________________\n",
            "conv_pw_13 (Conv2D)          (None, None, None, 1024)  1048576   \n",
            "_________________________________________________________________\n",
            "conv_pw_13_bn (BatchNormaliz (None, None, None, 1024)  4096      \n",
            "_________________________________________________________________\n",
            "conv_pw_13_relu (ReLU)       (None, None, None, 1024)  0         \n",
            "_________________________________________________________________\n",
            "global_average_pooling2d_5 ( (None, 1024)              0         \n",
            "_________________________________________________________________\n",
            "dense_15 (Dense)             (None, 1024)              1049600   \n",
            "_________________________________________________________________\n",
            "dense_16 (Dense)             (None, 1024)              1049600   \n",
            "_________________________________________________________________\n",
            "dense_17 (Dense)             (None, 512)               524800    \n",
            "_________________________________________________________________\n",
            "dense_18 (Dense)             (None, 25)                12825     \n",
            "=================================================================\n",
            "Total params: 5,865,689\n",
            "Trainable params: 5,843,801\n",
            "Non-trainable params: 21,888\n",
            "_________________________________________________________________\n"
          ],
          "name": "stdout"
        }
      ]
    },
    {
      "cell_type": "code",
      "metadata": {
        "id": "U5Cdn5kMXJeN",
        "colab_type": "code",
        "colab": {}
      },
      "source": [
        "for layer in model.layers:\n",
        "    layer.trainable=False"
      ],
      "execution_count": 0,
      "outputs": []
    },
    {
      "cell_type": "code",
      "metadata": {
        "id": "LkHYCXmTeGOs",
        "colab_type": "code",
        "colab": {}
      },
      "source": [
        "def transform(dataset):\n",
        "  newDataset = list()\n",
        "  for x in dataset:\n",
        "    x = np.repeat(x, 3, 2)\n",
        "    newDataset.append(x)\n",
        "  return np.array(newDataset)\n",
        "\n",
        "newTrainX = transform(trainX)\n",
        "newTestX = transform(testX)"
      ],
      "execution_count": 0,
      "outputs": []
    },
    {
      "cell_type": "code",
      "metadata": {
        "id": "p5H12iVawNRA",
        "colab_type": "code",
        "colab": {
          "base_uri": "https://localhost:8080/",
          "height": 40
        },
        "outputId": "695bc0c1-e876-4ddb-b576-a84b3b860576"
      },
      "source": [
        "print(newTrainX.shape, newTestX.shape)"
      ],
      "execution_count": 90,
      "outputs": [
        {
          "output_type": "stream",
          "text": [
            "(20591, 28, 28, 3) (6864, 28, 28, 3)\n"
          ],
          "name": "stdout"
        }
      ]
    },
    {
      "cell_type": "code",
      "metadata": {
        "id": "3TJs8pFbwzx5",
        "colab_type": "code",
        "colab": {
          "base_uri": "https://localhost:8080/",
          "height": 722
        },
        "outputId": "695207ab-2098-4f46-b97d-d737e832e817"
      },
      "source": [
        "model.compile(optimizer='adam', loss='sparse_categorical_crossentropy', metrics=['accuracy'])\n",
        "\n",
        "model.fit(newTrainX, trainY, validation_data=(newTestX, testY), epochs=15)"
      ],
      "execution_count": 94,
      "outputs": [
        {
          "output_type": "stream",
          "text": [
            "Train on 20591 samples, validate on 6864 samples\n",
            "Epoch 1/15\n",
            "20591/20591 [==============================] - 47s 2ms/step - loss: nan - acc: 0.0414 - val_loss: nan - val_acc: 0.0398\n",
            "Epoch 2/15\n",
            "20591/20591 [==============================] - 44s 2ms/step - loss: nan - acc: 0.0414 - val_loss: nan - val_acc: 0.0398\n",
            "Epoch 3/15\n",
            "20591/20591 [==============================] - 44s 2ms/step - loss: nan - acc: 0.0414 - val_loss: nan - val_acc: 0.0398\n",
            "Epoch 4/15\n",
            "20591/20591 [==============================] - 44s 2ms/step - loss: nan - acc: 0.0414 - val_loss: nan - val_acc: 0.0398\n",
            "Epoch 5/15\n",
            "20591/20591 [==============================] - 44s 2ms/step - loss: nan - acc: 0.0414 - val_loss: nan - val_acc: 0.0398\n",
            "Epoch 6/15\n",
            "20591/20591 [==============================] - 44s 2ms/step - loss: nan - acc: 0.0414 - val_loss: nan - val_acc: 0.0398\n",
            "Epoch 7/15\n",
            "20591/20591 [==============================] - 45s 2ms/step - loss: nan - acc: 0.0414 - val_loss: nan - val_acc: 0.0398\n",
            "Epoch 8/15\n",
            "20591/20591 [==============================] - 45s 2ms/step - loss: nan - acc: 0.0414 - val_loss: nan - val_acc: 0.0398\n",
            "Epoch 9/15\n",
            "20591/20591 [==============================] - 45s 2ms/step - loss: nan - acc: 0.0414 - val_loss: nan - val_acc: 0.0398\n",
            "Epoch 10/15\n",
            "20591/20591 [==============================] - 45s 2ms/step - loss: nan - acc: 0.0414 - val_loss: nan - val_acc: 0.0398\n",
            "Epoch 11/15\n",
            "20591/20591 [==============================] - 45s 2ms/step - loss: nan - acc: 0.0414 - val_loss: nan - val_acc: 0.0398\n",
            "Epoch 12/15\n",
            "20591/20591 [==============================] - 46s 2ms/step - loss: nan - acc: 0.0414 - val_loss: nan - val_acc: 0.0398\n",
            "Epoch 13/15\n",
            "20591/20591 [==============================] - 46s 2ms/step - loss: nan - acc: 0.0414 - val_loss: nan - val_acc: 0.0398\n",
            "Epoch 14/15\n",
            "20591/20591 [==============================] - 46s 2ms/step - loss: nan - acc: 0.0414 - val_loss: nan - val_acc: 0.0398\n",
            "Epoch 15/15\n",
            "20591/20591 [==============================] - 46s 2ms/step - loss: nan - acc: 0.0414 - val_loss: nan - val_acc: 0.0398\n"
          ],
          "name": "stdout"
        },
        {
          "output_type": "execute_result",
          "data": {
            "text/plain": [
              "<keras.callbacks.History at 0x7f9abbce00b8>"
            ]
          },
          "metadata": {
            "tags": []
          },
          "execution_count": 94
        }
      ]
    }
  ]
}